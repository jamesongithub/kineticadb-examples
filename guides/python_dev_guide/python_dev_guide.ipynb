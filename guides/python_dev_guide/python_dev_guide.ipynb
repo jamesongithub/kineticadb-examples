{
 "cells": [
  {
   "cell_type": "markdown",
   "source": "<div align=\"center\">\n    <img width=\"300\" src=\"https://2wz2rk1b7g6s3mm3mk3dj0lh-wpengine.netdna-ssl.com/wp-content/uploads/2018/08/kinetica_logo.svg\" alt=\"Kinetica Logo\"/>\n</div>",
   "metadata": {
    "cell_id": "4273a36e-32c4-47f3-b573-d68092d4ed7a",
    "tags": [],
    "deepnote_app_coordinates": {
     "x": 0,
     "y": 114,
     "w": 12,
     "h": 5
    },
    "deepnote_cell_type": "markdown",
    "deepnote_cell_height": 125.703125
   }
  },
  {
   "cell_type": "markdown",
   "source": "# Python developer guide\nThe following guide provides step-by-step instructions to get started writing Python applications using Kinetica. This guide demonstrates only a small set of the available API. A detailed description of the complete interface is available under [Python API Reference](https://docs.kinetica.com/7.1/api/python/).\n\nGo ahead and duplicate this notebook to run this on your own.\n\n\n",
   "metadata": {
    "cell_id": "210c8d32-abf1-4145-ac8e-944ca04edb2e",
    "deepnote_app_coordinates": {
     "x": 0,
     "y": null,
     "w": 12,
     "h": 5
    },
    "deepnote_cell_type": "markdown",
    "deepnote_cell_height": 179.171875
   }
  },
  {
   "cell_type": "markdown",
   "source": "## Before you start\n**Using deepnote**: You can duplicate this notebook to run it on your own.\n\n**Install Kinetica**: You will need an instance of Kinetica that you can point to.\n\n**Match the gpudb package version to your instance**: The version of gpudb package in your requirements.txt file needs to match the version of your instance of Kinetica. The package version should match upto the second level of a release. For instance, if you are running a 7.1.5.8 version of Kinetica, then the corresponding python package should be `gpudb==7.1.5.0`. \n\nTo update the requirements, simply open up the requirements.txt file in the side panel and update it. Once it is updated, you will need to reinitialize your environment. To do this go to the environment tab on the left pane (the one below the folder icon) and run the init.ipynb notebook.\n\n**If you run into issues**: Ask a question in our [community slack channel](https://join.slack.com/t/kinetica-community/shared_invite/zt-13ynqf304-bxuI_JKd9bW1BXny~Ze1QQ) and we will get back to you immediately. ",
   "metadata": {
    "cell_id": "52e94027-f150-4d4a-8c02-eeaa1146451e",
    "tags": [],
    "deepnote_app_coordinates": {
     "x": 0,
     "y": 108,
     "w": 12,
     "h": 5
    },
    "deepnote_cell_type": "markdown",
    "deepnote_cell_height": 298.734375
   }
  },
  {
   "cell_type": "code",
   "metadata": {
    "cell_id": "00001-60985094-6d42-4702-957a-501e116957a9",
    "deepnote_to_be_reexecuted": false,
    "source_hash": "196f394b",
    "execution_start": 1647441974966,
    "execution_millis": 95,
    "deepnote_app_coordinates": {
     "x": 0,
     "y": 6,
     "w": 12,
     "h": 5
    },
    "deepnote_cell_type": "code",
    "deepnote_cell_height": 153
   },
   "source": "import gpudb\nimport collections\nimport json\nimport csv\nimport pandas as pd",
   "execution_count": 1,
   "outputs": []
  },
  {
   "cell_type": "markdown",
   "source": "## Connect to the database\nUpdate the connection details below with those for your database server to connect to it.",
   "metadata": {
    "cell_id": "0efe1786-95d8-40fd-88b0-d489de71c5f6",
    "tags": [],
    "deepnote_app_coordinates": {
     "x": 0,
     "y": 42,
     "w": 12,
     "h": 5
    },
    "deepnote_cell_type": "markdown",
    "deepnote_cell_height": 108.390625
   }
  },
  {
   "cell_type": "code",
   "metadata": {
    "cell_id": "00004-e09adbf4-202b-45f8-aa94-3c15b2758547",
    "deepnote_to_be_reexecuted": false,
    "source_hash": "c07f3508",
    "execution_start": 1646326261897,
    "execution_millis": 0,
    "deepnote_app_coordinates": {
     "x": 0,
     "y": 18,
     "w": 12,
     "h": 5
    },
    "deepnote_cell_type": "code",
    "deepnote_cell_height": 315
   },
   "source": "# Update the credentials to match those for your server\n# options = gpudb.GPUdb.Options()\n# options.username = \"myusername\"\n# options.password = \"mysecret\"\n\n# update the host to match your instance\n# h_db = gpudb.GPUdb(\n#   host=[\"<REPLACE WITH YOUR HOST URL\"],\n#   options = options\n# )\n\n\n# exec_result = h_db.show_system_status()['status_map']['system']\n# print(exec_result)",
   "execution_count": null,
   "outputs": []
  },
  {
   "cell_type": "code",
   "metadata": {
    "cell_id": "ab106971-cbfb-4b96-a4b3-160b24750e05",
    "tags": [],
    "deepnote_app_coordinates": {
     "x": 0,
     "y": 0,
     "w": 12,
     "h": 5
    },
    "deepnote_to_be_reexecuted": false,
    "source_hash": "e68166d9",
    "execution_start": 1647442135382,
    "execution_millis": 64,
    "deepnote_cell_type": "code",
    "deepnote_cell_height": 207
   },
   "source": "options = gpudb.GPUdb.Options()\noptions.username = \"kadmin\"\noptions.password = \"KineticaDemo123!\"\n\nh_db = gpudb.GPUdb(\n  host=[\"https://mbrown-102521-euisfp7czn2h4.eastus2.cloudapp.azure.com/mbrown-102521-euisfp7czn2h4/gpudb-0\"],\n  options = options\n)",
   "execution_count": 2,
   "outputs": []
  },
  {
   "cell_type": "markdown",
   "source": "#### For Developer edition\nIf you are using the developer edition of Kinetica the database is by default available on port 9191 on localhost (http://127.0.0.1:9191). If you are on an on-premise version of Kinetica, then go ahead and specify the connection URL for that server.\n\n#### For Kinetica on the cloud\nIf you are using workbench (available on Azure and AWS at the moment) then you can use the connection details inside workbench to connect.\n\n![](images/connect_workbench.png)",
   "metadata": {
    "cell_id": "1c902343-8b03-4235-8e83-fc5ebd0e167f",
    "tags": [],
    "deepnote_app_coordinates": {
     "x": 0,
     "y": 0,
     "w": 12,
     "h": 5
    },
    "deepnote_cell_type": "markdown",
    "deepnote_cell_height": 764.171875
   }
  },
  {
   "cell_type": "markdown",
   "source": "## Creating a Schema\nAll [tables](https://docs.kinetica.com/7.1/concepts/tables/) & [views](https://docs.kinetica.com/7.1/concepts/views/) are placed in a schema. Tables and views that are created without specifying a schema will be placed in the default schema of `ki_home`. We will use the schema `python_dev_guide` to manage all the tables and views for this guide. We can create a schema using [`create_schema()`](https://docs.kinetica.com/7.1/api/python/?source/gpudbtable.html#gpudb.GPUdbTable.create_join_table).",
   "metadata": {
    "cell_id": "5070495d-ee3e-4e15-83f6-f79901cf149f",
    "tags": [],
    "deepnote_app_coordinates": {
     "x": 0,
     "y": 60,
     "w": 12,
     "h": 5
    },
    "deepnote_cell_type": "markdown",
    "deepnote_cell_height": 130.78125
   }
  },
  {
   "cell_type": "code",
   "metadata": {
    "cell_id": "61547a22-37cb-485d-98d1-6d6f1a19ca2e",
    "tags": [],
    "deepnote_to_be_reexecuted": false,
    "source_hash": "35e64a",
    "execution_start": 1647442252998,
    "execution_millis": 60,
    "deepnote_app_coordinates": {
     "x": 0,
     "y": 54,
     "w": 12,
     "h": 5
    },
    "deepnote_cell_type": "code",
    "deepnote_cell_height": 214.125,
    "deepnote_output_heights": [
     117.125
    ]
   },
   "source": "h_db.create_schema(\"python_dev_guide\", options={\"no_error_if_exists\": True})",
   "execution_count": 6,
   "outputs": [
    {
     "output_type": "execute_result",
     "execution_count": 6,
     "data": {
      "text/plain": "{'schema_name': 'python_dev_guide',\n 'info': {},\n 'status_info': {'status': 'OK',\n  'message': '',\n  'data_type': 'create_schema_response',\n  'response_time': 0.01281}}"
     },
     "metadata": {}
    }
   ]
  },
  {
   "cell_type": "markdown",
   "source": "## Creating a Type\nKinetica has a robust type inferencing system that can automatically infer the data types of different columns in a table that is being loaded into it. However, it is always best practice to explicitly define the types for a table before data is loaded. \n\nA [type](https://docs.kinetica.com/7.1/concepts/types/) is the column definition for the table. Each column comprises at least two values: a column name (always the first value) and a base type (always the second value). Any subsequent values are column properties. You can also use the [GPUdbRecordColumn](https://docs.kinetica.com/7.1/api/python/?source/gpudbrecordcolumn.html) and [GPUdbColumnProperty](https://docs.kinetica.com/7.1/api/python/?source/gpudbcolumnproperty.html) objects in addition to literal string values to help define a column. The following column type constants are available in [GPUdbRecordColumn](https://docs.kinetica.com/7.1/api/python/?source/gpudbrecordcolumn.html):\n\n- _ColumnType.INT\n- _ColumnType.LONG\n- _ColumnType.FLOAT\n- _ColumnType.DOUBLE\n- _ColumnType.STRING\n- _ColumnType.BYTES",
   "metadata": {
    "cell_id": "c3f56100-ad06-45e6-a0eb-49cdcc928bde",
    "tags": [],
    "deepnote_app_coordinates": {
     "x": 0,
     "y": 66,
     "w": 12,
     "h": 5
    },
    "deepnote_cell_type": "markdown",
    "deepnote_cell_height": 389.296875
   }
  },
  {
   "cell_type": "code",
   "metadata": {
    "cell_id": "eac5f4ff-2a15-4ffc-9b05-739474b0fcd5",
    "tags": [],
    "deepnote_to_be_reexecuted": false,
    "source_hash": "b6c6ff",
    "execution_start": 1647442508441,
    "execution_millis": 0,
    "deepnote_app_coordinates": {
     "x": 0,
     "y": 72,
     "w": 12,
     "h": 5
    },
    "deepnote_cell_type": "code",
    "deepnote_cell_height": 81
   },
   "source": "",
   "execution_count": 7,
   "outputs": []
  },
  {
   "cell_type": "markdown",
   "source": "> #### Important\n> The order of the columns defines the order in which values must be inserted into the table; e.g., a `vendor_name` value must be inserted to the immediate right of the `vendor_id` value when using list-based insert methods--map-based insert methods will match the value with the correct column regardless of order.\n\n",
   "metadata": {
    "cell_id": "23d968e5-328d-4b36-bf60-0df4155be9ca",
    "tags": [],
    "deepnote_app_coordinates": {
     "x": 0,
     "y": 78,
     "w": 12,
     "h": 5
    },
    "deepnote_cell_type": "markdown",
    "deepnote_cell_height": 124.78125
   }
  },
  {
   "cell_type": "markdown",
   "source": "## Table distribution\nKinetica is a distributed databases. Any table can be distributed across the Kinetica cluster using one of two schemes - [sharding](https://docs.kinetica.com/7.1/azure/concepts/tables/#sharding) or [replication](https://docs.kinetica.com/7.1/azure/concepts/tables/#replication). \n\nSharding is a fundamental aspect of most distributed databases. It is performed by hashing a particular value for a record ([shard key](https://docs.kinetica.com/7.1/azure/concepts/tables/#shard-key)) to determine its location in the cluster. If a shard key is not specified but the table has a primary key, then the primary key becomes the default shard key. In the absence of both a shard key, a primary key and if the table is not specified as replicated, the table is randomly sharded and distributed across the cluster.\n\nWhen done correctly, sharding has the benefit of dramatically increasing performance by distributing queries across the cluster. A limitation with sharding however, is that two sharded datasets can only be joined if they are sharded in the same way i.e. the records with the same values in both the tables are colocated.\n\nTables can also be replicated so that it available on every cluster node. The benefit of replication is that it allows data sets to be joined together when those data sets are not sharded on the columns being associated. Since making copies of the same table has storage costs, it is best and more common to replicate smaller tables. So for instance, in this guide, we replicate the vendors table.\n\n## Creating Tables\nAfter you've created a [type](https://docs.kinetica.com/7.1/concepts/types/) list and stored it in a variable, you can create a [table](https://docs.kinetica.com/7.1/concepts/tables/) using the [GPUdbTable](https://docs.kinetica.com/7.1/api/python/?source/gpudbtable.html) interface. \n\nWe will use three tables for this tuturial (the table distribution scheme is noted in brackets):\n\n- A lookup table containing sample cab vendor information (replicated)\n- A 1-to-1 relation table containing payment information for a subset of the cab-ride transactions (sharded on primary key `payment_id`)\n- A base table containing a sample of NYC taxi cab ride data (sharded on `payment_id`)",
   "metadata": {
    "cell_id": "52b3cc40-1bd4-4bcc-aadb-11dd7be815a1",
    "tags": [],
    "deepnote_app_coordinates": {
     "x": 0,
     "y": 84,
     "w": 12,
     "h": 5
    },
    "deepnote_cell_type": "markdown",
    "deepnote_cell_height": 571.46875
   }
  },
  {
   "cell_type": "code",
   "metadata": {
    "cell_id": "f2930dcd-3bf2-4cc0-9fb5-5c107388fe81",
    "tags": [],
    "deepnote_to_be_reexecuted": false,
    "source_hash": "2f3daec3",
    "execution_start": 1647442787934,
    "execution_millis": 241,
    "deepnote_app_coordinates": {
     "x": 0,
     "y": 90,
     "w": 12,
     "h": 5
    },
    "deepnote_cell_type": "code",
    "deepnote_cell_height": 994.1875
   },
   "source": "# Create a type from a list of lists. Each list below is an individual\n# column. Each column comprises at least two values: a column name (always\n# the first value) and a base type (always the second value). Any\n# subsequent values are column properties. The order of the columns defines\n# the order in which values must be inserted into the table, e.g., a\n# \"vendor_name\" value cannot be inserted before a \"vendor_id\" value\nvendor_columns = [\n    # column types and properties can be listed as strings\n    [\"vendor_id\", \"string\", \"char4\", \"primary_key\"],\n    [\"vendor_name\", \"string\", \"char64\"],\n    [\"phone\", \"string\", \"char16\", \"nullable\"],\n    [\"email\", \"string\", \"char64\", \"nullable\"],\n    [\"hq_street\", \"string\", \"char64\"],\n    # column types and properties can also be listed using the\n    # GPUdbRecordColumn and GPUdbColumnProperty objects\n    [\n        \"hq_city\",\n        gpudb.GPUdbRecordColumn._ColumnType.STRING,\n        gpudb.GPUdbColumnProperty.CHAR8,\n        gpudb.GPUdbColumnProperty.DICT\n    ],\n    [\n        \"hq_state\",\n        gpudb.GPUdbRecordColumn._ColumnType.STRING,\n        gpudb.GPUdbColumnProperty.CHAR8,\n        gpudb.GPUdbColumnProperty.DICT\n    ],\n    [\"hq_zip\", gpudb.GPUdbRecordColumn._ColumnType.INT],\n    [\"num_emps\", gpudb.GPUdbRecordColumn._ColumnType.INT],\n    [\"num_cabs\", gpudb.GPUdbRecordColumn._ColumnType.INT]\n]\n\n# Clear any existing table with the same name\nh_db.clear_table(\n    table_name=\"python_dev_guide.taxi_vendors\", \n    options={\"no_error_if_not_exists\": True}\n    )\n\n\n# Create the table from the type and place it in a schema\ntry:\n    table_vendor_obj = gpudb.GPUdbTable(\n        _type=vendor_columns,\n        name=\"python_dev_guide.taxi_vendors\",\n        options={\"is_replicated\": \"true\"},\n        db=h_db\n    )\n    print(\"Vendor table successfully created\")\nexcept gpudb.GPUdbException as e:\n    print(\"Vendor table creation failure: {}\".format(str(e)))",
   "execution_count": 8,
   "outputs": [
    {
     "name": "stdout",
     "text": "Vendor table successfully created\n",
     "output_type": "stream"
    }
   ]
  },
  {
   "cell_type": "markdown",
   "source": "To pass in table creation options, you can either specify a Python map, as above, or you can use the [GPUdbTableOptions](https://docs.kinetica.com/7.1/api/python/?source/gpudbtableoptions.html) object instead:\n\n```python\ncreation_options = gpudb.GPUdbTableOptions.default().is_replicated(True)\n```",
   "metadata": {
    "cell_id": "be753de1-cf05-4d2a-a01c-9a49f3257d7c",
    "tags": [],
    "deepnote_app_coordinates": {
     "x": 0,
     "y": 96,
     "w": 12,
     "h": 5
    },
    "deepnote_cell_type": "markdown",
    "deepnote_cell_height": 108.78125
   }
  },
  {
   "cell_type": "markdown",
   "source": "Let's create a payments and taxi_trip_data table as well. These follow the same steps as above.",
   "metadata": {
    "cell_id": "e7d8a6c9-de96-4c7c-a7b2-a4f9f06a7792",
    "tags": [],
    "deepnote_app_coordinates": {
     "x": 0,
     "y": 0,
     "w": 12,
     "h": 5
    },
    "deepnote_cell_type": "markdown",
    "deepnote_cell_height": 52.390625
   }
  },
  {
   "cell_type": "code",
   "metadata": {
    "cell_id": "ce894e18-aea6-4754-848e-19fb3428d920",
    "tags": [],
    "deepnote_app_coordinates": {
     "x": 0,
     "y": 0,
     "w": 12,
     "h": 5
    },
    "deepnote_to_be_reexecuted": false,
    "source_hash": "dc6aa42",
    "execution_start": 1647442825354,
    "execution_millis": 460,
    "deepnote_cell_type": "code",
    "deepnote_cell_height": 616.1875
   },
   "source": "payment_columns = [\n    [\"payment_id\", \"long\", \"primary_key\"],\n    [\"payment_type\", \"string\", \"char16\", \"nullable\"],\n    [\"credit_type\", \"string\", \"char16\", \"nullable\"],\n    [\"payment_timestamp\", \"long\", \"timestamp\", \"nullable\"],\n    [\"fare_amount\", \"double\", \"nullable\"],\n    [\"surcharge\", \"double\", \"nullable\"],\n    [\"mta_tax\", \"double\", \"nullable\"],\n    [\"tip_amount\", \"double\", \"nullable\"],\n    [\"tolls_amount\", \"double\", \"nullable\"],\n    [\"total_amount\", \"double\", \"nullable\"]\n]\n\n# Clear any existing table with the same name\nh_db.clear_table(\n    table_name=\"python_dev_guide.payments\", \n    options={\"no_error_if_not_exists\": True}\n    )\n\n# Create the table from the type and place it in a schema\ntry:\n    table_payment_obj = gpudb.GPUdbTable(\n        _type=payment_columns,\n        name=\"python_dev_guide.payments\",\n        db=h_db\n    )\n    print(\"Payment table successfully created\")\nexcept gpudb.GPUdbException as e:\n    print(\"Payment table creation failure: {}\".format(str(e)))",
   "execution_count": 9,
   "outputs": [
    {
     "name": "stdout",
     "text": "Payment table successfully created\n",
     "output_type": "stream"
    }
   ]
  },
  {
   "cell_type": "code",
   "metadata": {
    "cell_id": "027e7ee7-5297-40b0-9b62-06d63ecdac31",
    "tags": [],
    "deepnote_app_coordinates": {
     "x": 0,
     "y": 0,
     "w": 12,
     "h": 5
    },
    "deepnote_to_be_reexecuted": false,
    "source_hash": "ae0ef49d",
    "execution_start": 1647442828623,
    "execution_millis": 187,
    "deepnote_cell_type": "code",
    "deepnote_cell_height": 652.1875
   },
   "source": "taxi_columns = [\n    [\"transaction_id\", \"long\", \"primary_key\"],\n    [\"payment_id\", \"long\", \"primary_key\", \"shard_key\"],\n    [\"vendor_id\", \"string\", \"char4\"],\n    [\"pickup_datetime\", \"long\", \"timestamp\"],\n    [\"dropoff_datetime\", \"long\", \"timestamp\"],\n    [\"passenger_count\", \"int\", \"int8\"],\n    [\"trip_distance\", \"float\"],\n    [\"pickup_longitude\", \"float\"],\n    [\"pickup_latitude\", \"float\"],\n    [\"dropoff_longitude\", \"float\"],\n    [\"dropoff_latitude\", \"float\"]\n]\n\n# Clear any existing table with the same name (otherwise we won't be able\n# to create the table)\nh_db.clear_table(\n    table_name=\"python_dev_guide.taxi_trips\", \n    options={\"no_error_if_not_exists\": True}\n    )\n\n# Create the table from the type and place it in a schema\ntry:\n    table_taxi_obj = gpudb.GPUdbTable(\n        _type=taxi_columns,\n        name=\"python_dev_guide.taxi_trips\",\n        db=h_db\n    )\n    print(\"Taxi table object successfully created\")\nexcept gpudb.GPUdbException as e:\n    print(\"Taxi table object creation failure: {}\".format(str(e)))",
   "execution_count": 10,
   "outputs": [
    {
     "name": "stdout",
     "text": "Taxi table object successfully created\n",
     "output_type": "stream"
    }
   ]
  },
  {
   "cell_type": "markdown",
   "source": "## Load data into tables",
   "metadata": {
    "cell_id": "00005-642d98c6-7f22-4fc5-8093-fcb3931b49d5",
    "deepnote_app_coordinates": {
     "x": 0,
     "y": 24,
     "w": 12,
     "h": 5
    },
    "deepnote_cell_type": "markdown",
    "deepnote_cell_height": 70
   }
  },
  {
   "cell_type": "markdown",
   "source": "Next let's explore adding some data into these tables using the [`insert_records()`](https://docs.kinetica.com/7.1/api/python/?source/gpudbtable.html#gpudb.GPUdbTable.insert_records) method. We will first add a single row of data, followed by multiple records and then finally we will see how to load data from a CSV file.\n\n> #### Note \n> Running the same insert multiple times will not add duplicate rows since each table has an associated primary key.",
   "metadata": {
    "cell_id": "43dde9e0-971b-4915-abfa-8cfbc4246313",
    "tags": [],
    "deepnote_app_coordinates": {
     "x": 0,
     "y": 0,
     "w": 12,
     "h": 5
    },
    "deepnote_cell_type": "markdown",
    "deepnote_cell_height": 161.171875
   }
  },
  {
   "cell_type": "markdown",
   "source": "### Load single Key/Value records",
   "metadata": {
    "cell_id": "b97a47f8-24db-476a-820b-2438e71d5bd6",
    "tags": [],
    "deepnote_app_coordinates": {
     "x": 0,
     "y": 0,
     "w": 12,
     "h": 5
    },
    "deepnote_cell_type": "markdown",
    "deepnote_cell_height": 62
   }
  },
  {
   "cell_type": "code",
   "metadata": {
    "cell_id": "60f646df-855a-4644-977b-2dba64cf5d8a",
    "tags": [],
    "deepnote_app_coordinates": {
     "x": 0,
     "y": 0,
     "w": 12,
     "h": 5
    },
    "deepnote_to_be_reexecuted": false,
    "source_hash": "a7159a8f",
    "execution_start": 1647442849826,
    "execution_millis": 153,
    "deepnote_cell_type": "code",
    "deepnote_cell_height": 472.1875
   },
   "source": "# The number of rows in the payment table \npayment_table_size_before_insert = table_payment_obj.size()\n\n# Create ordered dictionary for keys & values of record\npayment_datum = collections.OrderedDict()\npayment_datum[\"payment_id\"] = 189\npayment_datum[\"payment_type\"] = \"No Charge\"\npayment_datum[\"credit_type\"] = None\npayment_datum[\"payment_timestamp\"] = None\npayment_datum[\"fare_amount\"] = 6.5\npayment_datum[\"surcharge\"] = 0\npayment_datum[\"mta_tax\"] = 0.6\npayment_datum[\"tip_amount\"] = 0\npayment_datum[\"tolls_amount\"] = 0\npayment_datum[\"total_amount\"] = 7.1\n\n# Insert the record into the table\ntable_payment_obj.insert_records(payment_datum)\nprint(\"Number of records inserted into the Payment table: {}\".format(\n    table_payment_obj.size() - payment_table_size_before_insert\n))",
   "execution_count": 11,
   "outputs": [
    {
     "name": "stdout",
     "text": "Number of records inserted into the Payment table: 1\n",
     "output_type": "stream"
    }
   ]
  },
  {
   "cell_type": "markdown",
   "source": "### Multiple in-line records",
   "metadata": {
    "cell_id": "34dd237b-c4ce-4051-85ee-c7f4cf74a790",
    "tags": [],
    "deepnote_app_coordinates": {
     "x": 0,
     "y": 0,
     "w": 12,
     "h": 5
    },
    "deepnote_cell_type": "markdown",
    "deepnote_cell_height": 62
   }
  },
  {
   "cell_type": "markdown",
   "source": "The next two blocks of code add multiple records to the payment and vendor tables.",
   "metadata": {
    "cell_id": "ccb38838-3cc1-4c6f-a92b-036d7de98beb",
    "tags": [],
    "deepnote_app_coordinates": {
     "x": 0,
     "y": 0,
     "w": 12,
     "h": 5
    },
    "deepnote_cell_type": "markdown",
    "deepnote_cell_height": 52.390625
   }
  },
  {
   "cell_type": "code",
   "metadata": {
    "cell_id": "3cc1f23f-adfe-4028-92f1-42efa9808055",
    "tags": [],
    "deepnote_app_coordinates": {
     "x": 0,
     "y": 0,
     "w": 12,
     "h": 5
    },
    "deepnote_to_be_reexecuted": false,
    "source_hash": "135acdf6",
    "execution_start": 1647442857623,
    "execution_millis": 119,
    "deepnote_cell_type": "code",
    "deepnote_cell_height": 598.1875
   },
   "source": "vendor_table_size_before_insert = table_vendor_obj.size()\n# Create a list of in-line records. The order of the values must match the column order in the type\nvendor_records = [\n    [\"VTS\", \"Vine Taxi Service\", \"9998880001\", \"admin@vtstaxi.com\",\n        \"26 Summit St.\", \"Flushing\", \"NY\", 11354, 450, 400],\n    [\"YCAB\", \"Yes Cab\", \"7895444321\", None, \"97 Edgemont St.\", \"Brooklyn\",\n        \"NY\", 11223, 445, 425],\n    [\"NYC\", \"New York City Cabs\", None, \"support@nyc-taxis.com\",\n        \"9669 East Bayport St.\", \"Bronx\", \"NY\", 10453, 505, 500],\n    [\"DDS\", \"Dependable Driver Service\", None, None,\n        \"8554 North Homestead St.\", \"Bronx\", \"NY\", 10472, 200, 124],\n    [\"CMT\", \"Crazy Manhattan Taxi\", \"9778896500\",\n        \"admin@crazymanhattantaxi.com\", \"950 4th Road Suite 78\", \"Brooklyn\",\n        \"NY\", 11210, 500, 468],\n    [\"TNY\", \"Taxi New York\", None, None, \"725 Squaw Creek St.\", \"Bronx\",\n        \"NY\", 10458, 315, 305],\n    [\"NYMT\", \"New York Metro Taxi\", None, None, \"4 East Jennings St.\",\n        \"Brooklyn\", \"NY\", 11228, 166, 150],\n    [\"5BTC\", \"Five Boroughs Taxi Co.\", \"4566541278\", \"mgmt@5btc.com\",\n        \"9128 Lantern Street\", \"Brooklyn\", \"NY\", 11229, 193, 175]\n]\n\n# Insert the records into the Vendor table\ntable_vendor_obj.insert_records(vendor_records)\n\nprint(\"Number of records inserted into the Vendor table: {}\".format(\n    table_vendor_obj.size() - vendor_table_size_before_insert\n))",
   "execution_count": 12,
   "outputs": [
    {
     "name": "stdout",
     "text": "Number of records inserted into the Vendor table: 8\n",
     "output_type": "stream"
    }
   ]
  },
  {
   "cell_type": "code",
   "metadata": {
    "cell_id": "7218d68f-6c54-4462-8b83-9908064b963c",
    "tags": [],
    "deepnote_app_coordinates": {
     "x": 0,
     "y": 0,
     "w": 12,
     "h": 5
    },
    "deepnote_to_be_reexecuted": false,
    "source_hash": "972b0738",
    "execution_start": 1647442896951,
    "execution_millis": 1626,
    "deepnote_cell_type": "code",
    "deepnote_cell_height": 760.1875
   },
   "source": "payment_table_size_before_insert = table_payment_obj.size()\n# Create another list of in-line records\npayment_records = [\n    [136, \"Cash\", None, 1428716521000, 4, 0.5, 0.5, 1, 0, 6.3],\n    [148, \"Cash\", None, 1430124581000, 9.5, 0, 0.5, 1, 0, 11.3],\n    [114, \"Cash\", None, 1428259673000, 5.5, 0, 0.5, 1.89, 0, 8.19],\n    [180, \"Cash\", None, 1428965823000, 6.5, 0.5, 0.5, 1, 0, 8.8],\n    [109, \"Cash\", None, 1428948513000, 22.5, 0.5, 0.5, 4.75, 0, 28.55],\n    [132, \"Cash\", None, 1429472779000, 6.5, 0.5, 0.5, 1.55, 0, 9.35],\n    [134, \"Cash\", None, 1429472668000, 33.5, 0.5, 0.5, 0, 0, 34.8],\n    [176, \"Cash\", None, 1428403962000, 9, 0.5, 0.5, 2.06, 0, 12.36],\n    [100, \"Cash\", None, None, 9, 0, 0.5, 2.9, 0, 12.7],\n    [193, \"Cash\", None, None, 3.5, 1, 0.5, 1.59, 0, 6.89],\n    [140, \"Credit\", \"Visa\", None, 28, 0, 0.5, 0, 0, 28.8],\n    [161, \"Credit\", \"Visa\", None, 7, 0, 0.5, 0, 0, 7.8],\n    [199, \"Credit\", \"Visa\", None, 6, 1, 0.5, 1, 0, 8.5],\n    [159, \"Credit\", \"Visa\", 1428674487000, 7, 0, 0.5, 0, 0, 7.8],\n    [156, \"Credit\", \"MasterCard\", 1428672753000, 12.5, 0.5, 0.5, 0, 0, 13.8],\n    [198, \"Credit\", \"MasterCard\", 1429472636000, 9, 0, 0.5, 0, 0, 9.8],\n    [107, \"Credit\", \"MasterCard\", 1428717377000, 5, 0.5, 0.5, 0, 0, 6.3],\n    [166, \"Credit\", \"American Express\", 1428808723000, 17.5, 0, 0.5, 0, 0, 18.3],\n    [187, \"Credit\", \"American Express\", 1428670181000, 14, 0, 0.5, 0, 0, 14.8],\n    [125, \"Credit\", \"Discover\", 1429869673000, 8.5, 0.5, 0.5, 0, 0, 9.8],\n    [119, None, None, 1430431471000, 9.5, 0, 0.5, 0, 0, 10.3],\n    [150, None, None, 1430432447000, 7.5, 0, 0.5, 0, 0, 8.3],\n    [170, \"No Charge\", None, 1430431502000, 28.6, 0, 0.5, 0, 0, 28.6],\n    [123, \"No Charge\", None, 1430136649000, 20, 0.5, 0.5, 0, 0, 21.3],\n    [181, None, None, 1430135461000, 6.5, 0.5, 0.5, 0, 0, 7.8]\n]\n\n# Insert the records into the Payment table\nfor record in payment_records:\n    table_payment_obj.insert_records(record)\n\nprint(\"Number of records inserted into the Payment table: {}\".format(\n    table_payment_obj.size() - payment_table_size_before_insert\n))",
   "execution_count": 14,
   "outputs": [
    {
     "name": "stdout",
     "text": "Number of records inserted into the Payment table: 0\n",
     "output_type": "stream"
    }
   ]
  },
  {
   "cell_type": "markdown",
   "source": "### Load from a CSV file",
   "metadata": {
    "cell_id": "83d317d5-4744-4aaa-bd70-f32a54355cbd",
    "tags": [],
    "deepnote_app_coordinates": {
     "x": 0,
     "y": 0,
     "w": 12,
     "h": 5
    },
    "deepnote_cell_type": "markdown",
    "deepnote_cell_height": 62
   }
  },
  {
   "cell_type": "markdown",
   "source": "Let's upload all the data from the taxi_trip_data.csv file to the table_taxi",
   "metadata": {
    "cell_id": "491b8620-f39f-4b5f-974c-a90c51ac91dc",
    "tags": [],
    "deepnote_app_coordinates": {
     "x": 0,
     "y": 48,
     "w": 12,
     "h": 5
    },
    "deepnote_cell_type": "markdown",
    "deepnote_cell_height": 52.390625
   }
  },
  {
   "cell_type": "code",
   "metadata": {
    "cell_id": "66cd1eb4-9011-4342-a247-ac8161d43a13",
    "tags": [],
    "deepnote_app_coordinates": {
     "x": 0,
     "y": 0,
     "w": 12,
     "h": 5
    },
    "deepnote_to_be_reexecuted": false,
    "source_hash": "3d4f01bc",
    "execution_start": 1647442977437,
    "execution_millis": 58,
    "deepnote_cell_type": "code",
    "deepnote_cell_height": 459
   },
   "source": "with open('data/taxi_trip_data.csv') as csvfile:\n    taxi_data = csv.reader(csvfile, delimiter=',')\n    header = []\n    header = next(taxi_data)\n    taxi_records = []\n    for record in taxi_data:\n        record_data = []\n        record_data.append(int(record[0]))\n        record_data.append(int(record[1]))\n        record_data.append(record[2])\n        record_data.append(int(record[3]))\n        record_data.append(int(record[4]))\n        record_data.append(int(record[5]))\n        record_data.append(float(record[6]))\n        record_data.append(float(record[7]))\n        record_data.append(float(record[8]))\n        record_data.append(float(record[9]))\n        record_data.append(float(record[10]))\n        taxi_records.append(record_data)\n    table_taxi_obj.insert_records(taxi_records)\n\n    ",
   "execution_count": 15,
   "outputs": []
  },
  {
   "cell_type": "markdown",
   "source": "### Load from data source",
   "metadata": {
    "cell_id": "dcffe950-7d9a-47b3-825d-d8af3d63d686",
    "tags": [],
    "deepnote_app_coordinates": {
     "x": 0,
     "y": 0,
     "w": 12,
     "h": 5
    },
    "deepnote_cell_type": "markdown",
    "deepnote_cell_height": 62
   }
  },
  {
   "cell_type": "markdown",
   "source": "Add this as well to showcase newer capabilities. Maybe a streaming data source?",
   "metadata": {
    "cell_id": "323527f6-83f0-46e2-a40f-03ded8075ea6",
    "tags": [],
    "deepnote_app_coordinates": {
     "x": 0,
     "y": 0,
     "w": 12,
     "h": 5
    },
    "deepnote_cell_type": "markdown",
    "deepnote_cell_height": 52.390625
   }
  },
  {
   "cell_type": "markdown",
   "source": "## Retrieving records from Kinetica\nOnce the [table](https://docs.kinetica.com/7.1/concepts/tables/) is populated with data, the data can be retrieved using binary, JSON or geoJSON \nencoding. Binary encoding is more efficient than JSON encoding.\n\nThe [`get_records()`](https://docs.kinetica.com/7.1/api/python/frame/source/gpudb.html?highlight=get%20records#gpudb.GPUdb.get_records) method comes in a few different flavors. You have the option to retrieve an entire table or `get_records_by_column()` additionally, you can choose the `get_records_and_decode()` option to retrieve the records as an ordered dictionary. The example below shows, the latter. \n\nThe limit and offset options can be used to retrieve smaller blocks of data when you have large tables.",
   "metadata": {
    "cell_id": "d5849bc5-1a15-4642-bbac-14220902ad30",
    "tags": [],
    "deepnote_app_coordinates": {
     "x": 0,
     "y": 0,
     "w": 12,
     "h": 5
    },
    "deepnote_cell_type": "markdown",
    "deepnote_cell_height": 203.5625
   }
  },
  {
   "cell_type": "code",
   "metadata": {
    "cell_id": "d8e9cc98-3a7f-4e93-9a4a-a9c48e2511da",
    "tags": [],
    "deepnote_app_coordinates": {
     "x": 0,
     "y": 0,
     "w": 12,
     "h": 5
    },
    "deepnote_to_be_reexecuted": false,
    "source_hash": "f7ecca49",
    "execution_start": 1646326263909,
    "execution_millis": 394,
    "deepnote_cell_type": "code",
    "deepnote_cell_height": 537
   },
   "source": "# Retrieve the record from table in Kinetica\nrecords = h_db.get_records_and_decode(\n    table_name=\"python_dev_guide.taxi_trips\", \n    limit = 5, \n    encoding='json')['records']\n\n# Convert to a pandas data frame and print\ndf = pd.DataFrame(records)\ndisplay(df)",
   "execution_count": null,
   "outputs": [
    {
     "data": {
      "application/vnd.deepnote.dataframe.v3+json": {
       "column_count": 11,
       "row_count": 5,
       "columns": [
        {
         "name": "transaction_id",
         "dtype": "int64",
         "stats": {
          "unique_count": 5,
          "nan_count": 0,
          "min": "106041671",
          "max": "199751611",
          "histogram": [
           {
            "bin_start": 106041671,
            "bin_end": 115412665,
            "count": 1
           },
           {
            "bin_start": 115412665,
            "bin_end": 124783659,
            "count": 0
           },
           {
            "bin_start": 124783659,
            "bin_end": 134154653,
            "count": 0
           },
           {
            "bin_start": 134154653,
            "bin_end": 143525647,
            "count": 0
           },
           {
            "bin_start": 143525647,
            "bin_end": 152896641,
            "count": 0
           },
           {
            "bin_start": 152896641,
            "bin_end": 162267635,
            "count": 0
           },
           {
            "bin_start": 162267635,
            "bin_end": 171638629,
            "count": 1
           },
           {
            "bin_start": 171638629,
            "bin_end": 181009623,
            "count": 1
           },
           {
            "bin_start": 181009623,
            "bin_end": 190380617,
            "count": 0
           },
           {
            "bin_start": 190380617,
            "bin_end": 199751611,
            "count": 2
           }
          ]
         }
        },
        {
         "name": "payment_id",
         "dtype": "int64",
         "stats": {
          "unique_count": 5,
          "nan_count": 0,
          "min": "119",
          "max": "187",
          "histogram": [
           {
            "bin_start": 119,
            "bin_end": 125.8,
            "count": 2
           },
           {
            "bin_start": 125.8,
            "bin_end": 132.6,
            "count": 0
           },
           {
            "bin_start": 132.6,
            "bin_end": 139.4,
            "count": 0
           },
           {
            "bin_start": 139.4,
            "bin_end": 146.2,
            "count": 0
           },
           {
            "bin_start": 146.2,
            "bin_end": 153,
            "count": 1
           },
           {
            "bin_start": 153,
            "bin_end": 159.8,
            "count": 0
           },
           {
            "bin_start": 159.8,
            "bin_end": 166.6,
            "count": 1
           },
           {
            "bin_start": 166.6,
            "bin_end": 173.4,
            "count": 0
           },
           {
            "bin_start": 173.4,
            "bin_end": 180.2,
            "count": 0
           },
           {
            "bin_start": 180.2,
            "bin_end": 187,
            "count": 1
           }
          ]
         }
        },
        {
         "name": "vendor_id",
         "dtype": "object",
         "stats": {
          "unique_count": 2,
          "nan_count": 0,
          "categories": [
           {
            "name": "YCAB",
            "count": 4
           },
           {
            "name": "NYC",
            "count": 1
           }
          ]
         }
        },
        {
         "name": "pickup_datetime",
         "dtype": "int64",
         "stats": {
          "unique_count": 4,
          "nan_count": 0,
          "min": "1428669361000",
          "max": "1430431112000",
          "histogram": [
           {
            "bin_start": 1428669361000,
            "bin_end": 1428845536100,
            "count": 2
           },
           {
            "bin_start": 1428845536100,
            "bin_end": 1429021711200,
            "count": 0
           },
           {
            "bin_start": 1429021711200,
            "bin_end": 1429197886300,
            "count": 0
           },
           {
            "bin_start": 1429197886300,
            "bin_end": 1429374061400,
            "count": 0
           },
           {
            "bin_start": 1429374061400,
            "bin_end": 1429550236500,
            "count": 0
           },
           {
            "bin_start": 1429550236500,
            "bin_end": 1429726411600,
            "count": 0
           },
           {
            "bin_start": 1429726411600,
            "bin_end": 1429902586700,
            "count": 1
           },
           {
            "bin_start": 1429902586700,
            "bin_end": 1430078761800,
            "count": 0
           },
           {
            "bin_start": 1430078761800,
            "bin_end": 1430254936900,
            "count": 0
           },
           {
            "bin_start": 1430254936900,
            "bin_end": 1430431112000,
            "count": 2
           }
          ]
         }
        },
        {
         "name": "dropoff_datetime",
         "dtype": "int64",
         "stats": {
          "unique_count": 5,
          "nan_count": 0,
          "min": "1428670181000",
          "max": "1430432447000",
          "histogram": [
           {
            "bin_start": 1428670181000,
            "bin_end": 1428846407600,
            "count": 2
           },
           {
            "bin_start": 1428846407600,
            "bin_end": 1429022634200,
            "count": 0
           },
           {
            "bin_start": 1429022634200,
            "bin_end": 1429198860800,
            "count": 0
           },
           {
            "bin_start": 1429198860800,
            "bin_end": 1429375087400,
            "count": 0
           },
           {
            "bin_start": 1429375087400,
            "bin_end": 1429551314000,
            "count": 0
           },
           {
            "bin_start": 1429551314000,
            "bin_end": 1429727540600,
            "count": 0
           },
           {
            "bin_start": 1429727540600,
            "bin_end": 1429903767200,
            "count": 1
           },
           {
            "bin_start": 1429903767200,
            "bin_end": 1430079993800,
            "count": 0
           },
           {
            "bin_start": 1430079993800,
            "bin_end": 1430256220400,
            "count": 0
           },
           {
            "bin_start": 1430256220400,
            "bin_end": 1430432447000,
            "count": 2
           }
          ]
         }
        },
        {
         "name": "passenger_count",
         "dtype": "int64",
         "stats": {
          "unique_count": 2,
          "nan_count": 0,
          "min": "1",
          "max": "2",
          "histogram": [
           {
            "bin_start": 1,
            "bin_end": 1.1,
            "count": 4
           },
           {
            "bin_start": 1.1,
            "bin_end": 1.2,
            "count": 0
           },
           {
            "bin_start": 1.2,
            "bin_end": 1.3,
            "count": 0
           },
           {
            "bin_start": 1.3,
            "bin_end": 1.4,
            "count": 0
           },
           {
            "bin_start": 1.4,
            "bin_end": 1.5,
            "count": 0
           },
           {
            "bin_start": 1.5,
            "bin_end": 1.6,
            "count": 0
           },
           {
            "bin_start": 1.6,
            "bin_end": 1.7000000000000002,
            "count": 0
           },
           {
            "bin_start": 1.7000000000000002,
            "bin_end": 1.8,
            "count": 0
           },
           {
            "bin_start": 1.8,
            "bin_end": 1.9,
            "count": 0
           },
           {
            "bin_start": 1.9,
            "bin_end": 2,
            "count": 1
           }
          ]
         }
        },
        {
         "name": "trip_distance",
         "dtype": "float64",
         "stats": {
          "unique_count": 5,
          "nan_count": 0,
          "min": "0.5",
          "max": "6.5",
          "histogram": [
           {
            "bin_start": 0.5,
            "bin_end": 1.1,
            "count": 2
           },
           {
            "bin_start": 1.1,
            "bin_end": 1.7,
            "count": 2
           },
           {
            "bin_start": 1.7,
            "bin_end": 2.3,
            "count": 0
           },
           {
            "bin_start": 2.3,
            "bin_end": 2.9,
            "count": 0
           },
           {
            "bin_start": 2.9,
            "bin_end": 3.5,
            "count": 0
           },
           {
            "bin_start": 3.5,
            "bin_end": 4.1,
            "count": 0
           },
           {
            "bin_start": 4.1,
            "bin_end": 4.7,
            "count": 0
           },
           {
            "bin_start": 4.7,
            "bin_end": 5.3,
            "count": 0
           },
           {
            "bin_start": 5.3,
            "bin_end": 5.8999999999999995,
            "count": 0
           },
           {
            "bin_start": 5.8999999999999995,
            "bin_end": 6.5,
            "count": 1
           }
          ]
         }
        },
        {
         "name": "pickup_longitude",
         "dtype": "float64",
         "stats": {
          "unique_count": 5,
          "nan_count": 0,
          "min": "-73.9887848",
          "max": "-73.9708176",
          "histogram": [
           {
            "bin_start": -73.9887848,
            "bin_end": -73.98698808,
            "count": 1
           },
           {
            "bin_start": -73.98698808,
            "bin_end": -73.98519136,
            "count": 1
           },
           {
            "bin_start": -73.98519136,
            "bin_end": -73.98339464,
            "count": 1
           },
           {
            "bin_start": -73.98339464,
            "bin_end": -73.98159792,
            "count": 0
           },
           {
            "bin_start": -73.98159792,
            "bin_end": -73.9798012,
            "count": 0
           },
           {
            "bin_start": -73.9798012,
            "bin_end": -73.97800448000001,
            "count": 0
           },
           {
            "bin_start": -73.97800448000001,
            "bin_end": -73.97620776000001,
            "count": 0
           },
           {
            "bin_start": -73.97620776000001,
            "bin_end": -73.97441104,
            "count": 1
           },
           {
            "bin_start": -73.97441104,
            "bin_end": -73.97261432,
            "count": 0
           },
           {
            "bin_start": -73.97261432,
            "bin_end": -73.9708176,
            "count": 1
           }
          ]
         }
        },
        {
         "name": "pickup_latitude",
         "dtype": "float64",
         "stats": {
          "unique_count": 5,
          "nan_count": 0,
          "min": "40.7447815",
          "max": "40.7699394",
          "histogram": [
           {
            "bin_start": 40.7447815,
            "bin_end": 40.74729729,
            "count": 1
           },
           {
            "bin_start": 40.74729729,
            "bin_end": 40.74981308,
            "count": 0
           },
           {
            "bin_start": 40.74981308,
            "bin_end": 40.75232887,
            "count": 0
           },
           {
            "bin_start": 40.75232887,
            "bin_end": 40.75484466,
            "count": 0
           },
           {
            "bin_start": 40.75484466,
            "bin_end": 40.75736045,
            "count": 0
           },
           {
            "bin_start": 40.75736045,
            "bin_end": 40.75987624,
            "count": 1
           },
           {
            "bin_start": 40.75987624,
            "bin_end": 40.76239203,
            "count": 1
           },
           {
            "bin_start": 40.76239203,
            "bin_end": 40.76490782,
            "count": 0
           },
           {
            "bin_start": 40.76490782,
            "bin_end": 40.76742361,
            "count": 1
           },
           {
            "bin_start": 40.76742361,
            "bin_end": 40.7699394,
            "count": 1
           }
          ]
         }
        },
        {
         "name": "dropoff_longitude",
         "dtype": "float64",
         "stats": {
          "unique_count": 5,
          "nan_count": 0,
          "min": "-74.0091095",
          "max": "-73.9825058",
          "histogram": [
           {
            "bin_start": -74.0091095,
            "bin_end": -74.00644913,
            "count": 1
           },
           {
            "bin_start": -74.00644913,
            "bin_end": -74.00378875999999,
            "count": 0
           },
           {
            "bin_start": -74.00378875999999,
            "bin_end": -74.00112838999999,
            "count": 0
           },
           {
            "bin_start": -74.00112838999999,
            "bin_end": -73.99846801999999,
            "count": 1
           },
           {
            "bin_start": -73.99846801999999,
            "bin_end": -73.99580764999999,
            "count": 0
           },
           {
            "bin_start": -73.99580764999999,
            "bin_end": -73.99314728,
            "count": 0
           },
           {
            "bin_start": -73.99314728,
            "bin_end": -73.99048691,
            "count": 1
           },
           {
            "bin_start": -73.99048691,
            "bin_end": -73.98782654,
            "count": 0
           },
           {
            "bin_start": -73.98782654,
            "bin_end": -73.98516617,
            "count": 0
           },
           {
            "bin_start": -73.98516617,
            "bin_end": -73.9825058,
            "count": 2
           }
          ]
         }
        },
        {
         "name": "dropoff_latitude",
         "dtype": "float64",
         "stats": {
          "unique_count": 5,
          "nan_count": 0,
          "min": "40.7044182",
          "max": "40.7674751",
          "histogram": [
           {
            "bin_start": 40.7044182,
            "bin_end": 40.71072389,
            "count": 1
           },
           {
            "bin_start": 40.71072389,
            "bin_end": 40.71702958,
            "count": 0
           },
           {
            "bin_start": 40.71702958,
            "bin_end": 40.72333527,
            "count": 0
           },
           {
            "bin_start": 40.72333527,
            "bin_end": 40.72964096,
            "count": 0
           },
           {
            "bin_start": 40.72964096,
            "bin_end": 40.73594665,
            "count": 1
           },
           {
            "bin_start": 40.73594665,
            "bin_end": 40.74225234,
            "count": 0
           },
           {
            "bin_start": 40.74225234,
            "bin_end": 40.74855803,
            "count": 0
           },
           {
            "bin_start": 40.74855803,
            "bin_end": 40.754863719999996,
            "count": 1
           },
           {
            "bin_start": 40.754863719999996,
            "bin_end": 40.76116941,
            "count": 0
           },
           {
            "bin_start": 40.76116941,
            "bin_end": 40.7674751,
            "count": 2
           }
          ]
         }
        },
        {
         "name": "_deepnote_index_column",
         "dtype": "int64"
        }
       ],
       "rows": [
        {
         "transaction_id": 199751611,
         "payment_id": 166,
         "vendor_id": "YCAB",
         "pickup_datetime": 1428808559000,
         "dropoff_datetime": 1428808723000,
         "passenger_count": 2,
         "trip_distance": 0.5,
         "pickup_longitude": -73.9867935,
         "pickup_latitude": 40.7607346,
         "dropoff_longitude": -73.9825058,
         "dropoff_latitude": 40.7674751,
         "_deepnote_index_column": 0
        },
        {
         "transaction_id": 191386113,
         "payment_id": 187,
         "vendor_id": "YCAB",
         "pickup_datetime": 1428669361000,
         "dropoff_datetime": 1428670181000,
         "passenger_count": 1,
         "trip_distance": 1.29999995,
         "pickup_longitude": -73.9708176,
         "pickup_latitude": 40.7590065,
         "dropoff_longitude": -73.9836578,
         "dropoff_latitude": 40.752861,
         "_deepnote_index_column": 1
        },
        {
         "transaction_id": 106041671,
         "payment_id": 125,
         "vendor_id": "NYC",
         "pickup_datetime": 1429869346000,
         "dropoff_datetime": 1429869673000,
         "passenger_count": 1,
         "trip_distance": 0.790000021,
         "pickup_longitude": -73.9844284,
         "pickup_latitude": 40.7699394,
         "dropoff_longitude": -73.9927292,
         "dropoff_latitude": 40.7625389,
         "_deepnote_index_column": 2
        },
        {
         "transaction_id": 177106037,
         "payment_id": 119,
         "vendor_id": "YCAB",
         "pickup_datetime": 1430431112000,
         "dropoff_datetime": 1430431471000,
         "passenger_count": 1,
         "trip_distance": 1.20000005,
         "pickup_longitude": -73.9887848,
         "pickup_latitude": 40.7447815,
         "dropoff_longitude": -74.0004807,
         "dropoff_latitude": 40.7348251,
         "_deepnote_index_column": 3
        },
        {
         "transaction_id": 169677687,
         "payment_id": 150,
         "vendor_id": "YCAB",
         "pickup_datetime": 1430431112000,
         "dropoff_datetime": 1430432447000,
         "passenger_count": 1,
         "trip_distance": 6.5,
         "pickup_longitude": -73.9754486,
         "pickup_latitude": 40.765274,
         "dropoff_longitude": -74.0091095,
         "dropoff_latitude": 40.7044182,
         "_deepnote_index_column": 4
        }
       ]
      },
      "text/plain": "   transaction_id  payment_id vendor_id  pickup_datetime  dropoff_datetime  \\\n0       199751611         166      YCAB    1428808559000     1428808723000   \n1       191386113         187      YCAB    1428669361000     1428670181000   \n2       106041671         125       NYC    1429869346000     1429869673000   \n3       177106037         119      YCAB    1430431112000     1430431471000   \n4       169677687         150      YCAB    1430431112000     1430432447000   \n\n   passenger_count  trip_distance  pickup_longitude  pickup_latitude  \\\n0                2           0.50        -73.986794        40.760735   \n1                1           1.30        -73.970818        40.759006   \n2                1           0.79        -73.984428        40.769939   \n3                1           1.20        -73.988785        40.744782   \n4                1           6.50        -73.975449        40.765274   \n\n   dropoff_longitude  dropoff_latitude  \n0         -73.982506         40.767475  \n1         -73.983658         40.752861  \n2         -73.992729         40.762539  \n3         -74.000481         40.734825  \n4         -74.009109         40.704418  ",
      "text/html": "<div>\n<style scoped>\n    .dataframe tbody tr th:only-of-type {\n        vertical-align: middle;\n    }\n\n    .dataframe tbody tr th {\n        vertical-align: top;\n    }\n\n    .dataframe thead th {\n        text-align: right;\n    }\n</style>\n<table border=\"1\" class=\"dataframe\">\n  <thead>\n    <tr style=\"text-align: right;\">\n      <th></th>\n      <th>transaction_id</th>\n      <th>payment_id</th>\n      <th>vendor_id</th>\n      <th>pickup_datetime</th>\n      <th>dropoff_datetime</th>\n      <th>passenger_count</th>\n      <th>trip_distance</th>\n      <th>pickup_longitude</th>\n      <th>pickup_latitude</th>\n      <th>dropoff_longitude</th>\n      <th>dropoff_latitude</th>\n    </tr>\n  </thead>\n  <tbody>\n    <tr>\n      <th>0</th>\n      <td>199751611</td>\n      <td>166</td>\n      <td>YCAB</td>\n      <td>1428808559000</td>\n      <td>1428808723000</td>\n      <td>2</td>\n      <td>0.50</td>\n      <td>-73.986794</td>\n      <td>40.760735</td>\n      <td>-73.982506</td>\n      <td>40.767475</td>\n    </tr>\n    <tr>\n      <th>1</th>\n      <td>191386113</td>\n      <td>187</td>\n      <td>YCAB</td>\n      <td>1428669361000</td>\n      <td>1428670181000</td>\n      <td>1</td>\n      <td>1.30</td>\n      <td>-73.970818</td>\n      <td>40.759006</td>\n      <td>-73.983658</td>\n      <td>40.752861</td>\n    </tr>\n    <tr>\n      <th>2</th>\n      <td>106041671</td>\n      <td>125</td>\n      <td>NYC</td>\n      <td>1429869346000</td>\n      <td>1429869673000</td>\n      <td>1</td>\n      <td>0.79</td>\n      <td>-73.984428</td>\n      <td>40.769939</td>\n      <td>-73.992729</td>\n      <td>40.762539</td>\n    </tr>\n    <tr>\n      <th>3</th>\n      <td>177106037</td>\n      <td>119</td>\n      <td>YCAB</td>\n      <td>1430431112000</td>\n      <td>1430431471000</td>\n      <td>1</td>\n      <td>1.20</td>\n      <td>-73.988785</td>\n      <td>40.744782</td>\n      <td>-74.000481</td>\n      <td>40.734825</td>\n    </tr>\n    <tr>\n      <th>4</th>\n      <td>169677687</td>\n      <td>150</td>\n      <td>YCAB</td>\n      <td>1430431112000</td>\n      <td>1430432447000</td>\n      <td>1</td>\n      <td>6.50</td>\n      <td>-73.975449</td>\n      <td>40.765274</td>\n      <td>-74.009109</td>\n      <td>40.704418</td>\n    </tr>\n  </tbody>\n</table>\n</div>"
     },
     "metadata": {},
     "output_type": "display_data"
    }
   ]
  },
  {
   "cell_type": "markdown",
   "source": "## Updating and removing records\nUsing any [GPUdbTable](https://docs.kinetica.com/7.1/api/python/?source/gpudbtable.html) object, you can update records via the update_records method.",
   "metadata": {
    "cell_id": "e7cbfaa3-4e78-4355-87ea-3a38ca4430f8",
    "tags": [],
    "deepnote_app_coordinates": {
     "x": 0,
     "y": 0,
     "w": 12,
     "h": 5
    },
    "deepnote_cell_type": "markdown",
    "deepnote_cell_height": 108.390625
   }
  },
  {
   "cell_type": "code",
   "metadata": {
    "cell_id": "a5fce5cf-dc11-4161-8eba-168464567d31",
    "tags": [],
    "deepnote_app_coordinates": {
     "x": 0,
     "y": 0,
     "w": 12,
     "h": 5
    },
    "deepnote_to_be_reexecuted": false,
    "source_hash": "8e0b1fa8",
    "execution_start": 1646326264057,
    "execution_millis": 249,
    "deepnote_cell_type": "code",
    "deepnote_cell_height": 433.6875,
    "deepnote_output_heights": [
     174.6875
    ]
   },
   "source": "# Update the e-mail of, and add two employees and one cab to, the DDS vendor\ntable_vendor_obj.update_records(\n    expressions=[\"vendor_id = 'DDS'\"],\n    new_values_maps={\n        \"email\": \"'management@ddstaxico.com'\",\n        \"num_emps\": \"num_emps + 2\",\n        \"num_cabs\": \"num_cabs + 1\"\n    },\n    options={\"use_expressions_in_new_values_maps\":\"true\"}\n)",
   "execution_count": null,
   "outputs": [
    {
     "output_type": "execute_result",
     "execution_count": 17,
     "data": {
      "text/plain": "{'count_updated': 1,\n 'counts_updated': [1],\n 'count_inserted': 0,\n 'counts_inserted': [0],\n 'info': {},\n 'status_info': {'status': 'OK',\n  'message': '',\n  'data_type': 'update_records_response',\n  'response_time': 0.01551}}"
     },
     "metadata": {}
    }
   ]
  },
  {
   "cell_type": "markdown",
   "source": "You can delete records using the [`delete_records()`](https://docs.kinetica.com/7.1/api/python/?source/gpudbtable.html#gpudb.GPUdbTable.delete_records) method.",
   "metadata": {
    "cell_id": "37e6fb99-7b53-429d-8ca8-24c0d9c39a91",
    "tags": [],
    "deepnote_app_coordinates": {
     "x": 0,
     "y": 0,
     "w": 12,
     "h": 5
    },
    "deepnote_cell_type": "markdown",
    "deepnote_cell_height": 52.390625
   }
  },
  {
   "cell_type": "code",
   "metadata": {
    "cell_id": "ac7c4d41-548d-407c-9649-cba9d148295b",
    "tags": [],
    "deepnote_app_coordinates": {
     "x": 0,
     "y": 0,
     "w": 12,
     "h": 5
    },
    "deepnote_to_be_reexecuted": false,
    "source_hash": "ccda5d00",
    "execution_start": 1646326264121,
    "execution_millis": 185,
    "deepnote_cell_type": "code",
    "deepnote_cell_height": 278.5625
   },
   "source": "# Delete payment 189\npre_delete = table_payment_obj.size()\nprint(\"Records in the payment table (before delete): {}\".format(pre_delete))\ndelete_expr = [\"payment_id = 189\"]\nprint(\"Deleting record where \" + delete_expr[0])\ntable_payment_obj.delete_records(expressions=delete_expr)\npost_delete = table_payment_obj.size()\nprint(\"Records in the payment table (after delete): {}\".format(post_delete))",
   "execution_count": null,
   "outputs": [
    {
     "name": "stdout",
     "text": "Records in the payment table (before delete): 26\nDeleting record where payment_id = 189\nRecords in the payment table (after delete): 25\n",
     "output_type": "stream"
    }
   ]
  },
  {
   "cell_type": "markdown",
   "source": "## Alter Table\nSome properties can be altered or added after [table](https://docs.kinetica.com/7.1/concepts/tables/) creation, including [indexes](https://docs.kinetica.com/7.1/concepts/indexes/), [dictionary encoding](https://docs.kinetica.com/7.1/concepts/dictionary_encoding/), and [compression](https://docs.kinetica.com/7.1/concepts/compression/).\n\n### Indexes\nThe example below uses the [`alter_table()`](https://docs.kinetica.com/7.1/api/python/?source/gpudbtable.html#gpudb.GPUdbTable.alter_table) method to create column indexes (also known as attribute index) on the `fare_amonunt` and `passenger_count` columns in the payment table.\n\n",
   "metadata": {
    "cell_id": "2ad869c6-24cd-43ac-92a2-a5da0e763ec4",
    "tags": [],
    "deepnote_app_coordinates": {
     "x": 0,
     "y": 0,
     "w": 12,
     "h": 5
    },
    "deepnote_cell_type": "markdown",
    "deepnote_cell_height": 192.78125
   }
  },
  {
   "cell_type": "code",
   "metadata": {
    "cell_id": "85124167-31d9-4c37-905c-c7f27bc0b1c5",
    "tags": [],
    "deepnote_app_coordinates": {
     "x": 0,
     "y": 0,
     "w": 12,
     "h": 5
    },
    "deepnote_to_be_reexecuted": false,
    "source_hash": "6a99ea2e",
    "execution_start": 1646326264223,
    "execution_millis": 105,
    "deepnote_cell_type": "code",
    "deepnote_cell_height": 401.25,
    "deepnote_output_heights": [
     232.25
    ]
   },
   "source": "# Add column indexes on:\n#   - payment table, fare_amount (for query-chaining filter example)\n#   - taxi table, passenger_count (for filter-by-range example) */\ntable_payment_obj.alter_table(action=\"create_index\", value=\"fare_amount\")\ntable_taxi_obj.alter_table(action=\"create_index\", value=\"passenger_count\")",
   "execution_count": null,
   "outputs": [
    {
     "output_type": "execute_result",
     "execution_count": 19,
     "data": {
      "text/plain": "{'table_name': 'python_dev_guide.taxi_trips',\n 'action': 'create_index',\n 'value': 'passenger_count',\n 'type_id': '',\n 'type_definition': '',\n 'properties': {},\n 'label': '',\n 'info': {},\n 'status_info': {'status': 'OK',\n  'message': '',\n  'data_type': 'alter_table_response',\n  'response_time': 0.01148}}"
     },
     "metadata": {}
    }
   ]
  },
  {
   "cell_type": "markdown",
   "source": "### Compression\nApplying column compression works similarly: using the [`alter_table()`](https://docs.kinetica.com/7.1/api/python/?source/gpudbtable.html#gpudb.GPUdbTable.alter_table) method, but with a `set_column_compression` action paired with a column name and compression type option.",
   "metadata": {
    "cell_id": "4350c961-1b69-4142-a9e1-b4acc93616e8",
    "tags": [],
    "deepnote_app_coordinates": {
     "x": 0,
     "y": 0,
     "w": 12,
     "h": 5
    },
    "deepnote_cell_type": "markdown",
    "deepnote_cell_height": 100.390625
   }
  },
  {
   "cell_type": "code",
   "metadata": {
    "cell_id": "4017b4b2-199d-4e9b-847b-37361e357218",
    "tags": [],
    "deepnote_app_coordinates": {
     "x": 0,
     "y": 0,
     "w": 12,
     "h": 5
    },
    "deepnote_to_be_reexecuted": false,
    "source_hash": "c4143184",
    "execution_start": 1646326264330,
    "execution_millis": 91,
    "deepnote_cell_type": "code",
    "deepnote_cell_height": 297
   },
   "source": "# Apply the snappy compression algorithm to the pickup and dropoff datetime columns\nsnappy_compression = {\"compression_type\": \"snappy\"}\ntable_taxi_obj.alter_table(\n    action=\"set_column_compression\",\n    value=\"pickup_datetime\",\n    options=snappy_compression\n)\n\ndropoff_compress_resp = table_taxi_obj.alter_table(\n    action=\"set_column_compression\",\n    value=\"dropoff_datetime\",\n    options=snappy_compression\n)",
   "execution_count": null,
   "outputs": []
  },
  {
   "cell_type": "markdown",
   "source": ">#### Important\n> Column compression is applied at a fixed interval, so be sure to verify later that the compression has been added. Column usage should decrease by roughly 23% (~1989 bytes)\n",
   "metadata": {
    "cell_id": "a9cd4d77-7870-45e0-8fb8-a7278bd875fd",
    "tags": [],
    "deepnote_app_coordinates": {
     "x": 0,
     "y": 0,
     "w": 12,
     "h": 5
    },
    "deepnote_cell_type": "markdown",
    "deepnote_cell_height": 102.390625
   }
  },
  {
   "cell_type": "markdown",
   "source": "### Dictionary Encoding\nApplying dictionary encoding via [`alter_table()`](https://docs.kinetica.com/7.1/api/python/?source/gpudbtable.html#gpudb.GPUdbTable.alter_table) involves adding a new property to a column.",
   "metadata": {
    "cell_id": "7c94e0f5-1c4a-4b0a-a401-659c684c427e",
    "tags": [],
    "deepnote_app_coordinates": {
     "x": 0,
     "y": 0,
     "w": 12,
     "h": 5
    },
    "deepnote_cell_type": "markdown",
    "deepnote_cell_height": 100.390625
   }
  },
  {
   "cell_type": "code",
   "metadata": {
    "cell_id": "91ae4617-fdd1-4ed5-84aa-9e3c31994387",
    "tags": [],
    "deepnote_app_coordinates": {
     "x": 0,
     "y": 0,
     "w": 12,
     "h": 5
    },
    "deepnote_to_be_reexecuted": false,
    "source_hash": "284ed4f0",
    "execution_start": 1646326264442,
    "execution_millis": 53,
    "deepnote_cell_type": "code",
    "deepnote_cell_height": 611.125,
    "deepnote_output_heights": [
     424.125
    ]
   },
   "source": "# Apply dictionary encoding to the vendor_id column\ntable_taxi_obj.alter_table(\n    action=\"change_column\",\n    value=\"vendor_id\",\n    options={\"column_properties\": \"char4,dict\"}\n)",
   "execution_count": null,
   "outputs": [
    {
     "output_type": "execute_result",
     "execution_count": 21,
     "data": {
      "text/plain": "{'table_name': 'python_dev_guide.taxi_trips',\n 'action': 'change_column',\n 'value': 'vendor_id',\n 'type_id': '6085055925073034879',\n 'type_definition': '{\"type\":\"record\",\"name\":\"type_name\",\"fields\":[{\"name\":\"transaction_id\",\"type\":\"long\"},{\"name\":\"payment_id\",\"type\":\"long\"},{\"name\":\"vendor_id\",\"type\":\"string\"},{\"name\":\"pickup_datetime\",\"type\":\"long\"},{\"name\":\"dropoff_datetime\",\"type\":\"long\"},{\"name\":\"passenger_count\",\"type\":\"int\"},{\"name\":\"trip_distance\",\"type\":\"float\"},{\"name\":\"pickup_longitude\",\"type\":\"float\"},{\"name\":\"pickup_latitude\",\"type\":\"float\"},{\"name\":\"dropoff_longitude\",\"type\":\"float\"},{\"name\":\"dropoff_latitude\",\"type\":\"float\"}]}',\n 'properties': {'dropoff_datetime': ['data', 'timestamp'],\n  'dropoff_latitude': ['data'],\n  'dropoff_longitude': ['data'],\n  'passenger_count': ['data', 'int8'],\n  'payment_id': ['data', 'primary_key', 'shard_key'],\n  'pickup_datetime': ['data', 'timestamp'],\n  'pickup_latitude': ['data'],\n  'pickup_longitude': ['data'],\n  'transaction_id': ['data', 'primary_key'],\n  'trip_distance': ['data'],\n  'vendor_id': ['data', 'char4', 'dict']},\n 'label': '',\n 'info': {},\n 'status_info': {'status': 'OK',\n  'message': '',\n  'data_type': 'alter_table_response',\n  'response_time': 0.01954}}"
     },
     "metadata": {}
    }
   ]
  },
  {
   "cell_type": "markdown",
   "source": "## Filters\nFilters are an easy way to reduce larger [tables](https://docs.kinetica.com/7.1/concepts/tables/) into more concise [views](https://docs.kinetica.com/7.1/concepts/views/) using [expressions](https://docs.kinetica.com/7.1/concepts/expressions/).\n\n### Filter Example 1\nIn the example below Kinetica creates a view with a random name.",
   "metadata": {
    "cell_id": "b1633d51-2672-4f2a-bb91-ebcc8cb912c1",
    "tags": [],
    "deepnote_app_coordinates": {
     "x": 0,
     "y": 0,
     "w": 12,
     "h": 5
    },
    "deepnote_cell_type": "markdown",
    "deepnote_cell_height": 192.78125
   }
  },
  {
   "cell_type": "code",
   "metadata": {
    "cell_id": "79a2f1ed-8ef2-4a42-b1c7-1e9952542071",
    "tags": [],
    "deepnote_app_coordinates": {
     "x": 0,
     "y": 0,
     "w": 12,
     "h": 5
    },
    "deepnote_to_be_reexecuted": false,
    "source_hash": "b8422fba",
    "execution_start": 1646326264544,
    "execution_millis": 46,
    "deepnote_cell_type": "code",
    "deepnote_cell_height": 184.1875
   },
   "source": "# Select all payments with no corresponding payment type; allow Kinetica \n# to assign a random name to the view\nf1_count = table_payment_obj.filter(expression=\"IS_NULL(payment_type)\").size()\n\nprint(\"Number of null payments: {}\".format(f1_count))",
   "execution_count": null,
   "outputs": [
    {
     "name": "stdout",
     "text": "Number of null payments: 3\n",
     "output_type": "stream"
    }
   ]
  },
  {
   "cell_type": "markdown",
   "source": "### Filter example 2",
   "metadata": {
    "cell_id": "441d086f-63f8-4563-b357-7038aeee24d3",
    "tags": [],
    "deepnote_app_coordinates": {
     "x": 0,
     "y": 0,
     "w": 12,
     "h": 5
    },
    "deepnote_cell_type": "markdown",
    "deepnote_cell_height": 62
   }
  },
  {
   "cell_type": "code",
   "metadata": {
    "cell_id": "0584e2ed-f8cd-4f4e-b157-f856477d6b28",
    "tags": [],
    "deepnote_app_coordinates": {
     "x": 0,
     "y": 0,
     "w": 12,
     "h": 5
    },
    "deepnote_to_be_reexecuted": false,
    "source_hash": "7ae49943",
    "execution_start": 1646326264589,
    "execution_millis": 132,
    "deepnote_cell_type": "code",
    "deepnote_cell_height": 310.1875
   },
   "source": "# Using GPUdbTable query chaining, filter null payment type records with a\n# fare amount greater than 8\nf2_count = table_payment_obj.filter(\n    view_name=\"python_dev_guide.view_example1\",\n    expression=\"IS_NULL(payment_type)\"\n    ).filter(\n    view_name=\"python_dev_guide.view_example2\",\n    expression=\"fare_amount > 8\"\n    ).size()\n\nprint(\"Number of null payments with a fare amount greater than $8.00 \" \\\n    \"(with query chaining): {}\".format(f2_count))",
   "execution_count": null,
   "outputs": [
    {
     "name": "stdout",
     "text": "Number of null payments with a fare amount greater than $8.00 (with query chaining): 1\n",
     "output_type": "stream"
    }
   ]
  },
  {
   "cell_type": "markdown",
   "source": "### Filter example 3",
   "metadata": {
    "cell_id": "a4abfc1d-b9d1-4ed3-905d-cb5692e88743",
    "tags": [],
    "deepnote_app_coordinates": {
     "x": 0,
     "y": 0,
     "w": 12,
     "h": 5
    },
    "deepnote_cell_type": "markdown",
    "deepnote_cell_height": 62
   }
  },
  {
   "cell_type": "code",
   "metadata": {
    "cell_id": "37a1d0d4-da6d-47e3-9586-361336007d5e",
    "tags": [],
    "deepnote_app_coordinates": {
     "x": 0,
     "y": 0,
     "w": 12,
     "h": 5
    },
    "deepnote_to_be_reexecuted": false,
    "source_hash": "bc4fc5a2",
    "execution_start": 1646326264725,
    "execution_millis": 71,
    "deepnote_cell_type": "code",
    "deepnote_cell_height": 220.1875
   },
   "source": "# Filter by list where vendor ID is either NYC or YCAB\nf3_count = table_taxi_obj.filter_by_list(\n    view_name=\"python_dev_guide.view_example3\",\n    column_values_map={\"vendor_id\": [\"NYC\", \"YCAB\"]}\n).size()\n\nprint(\"Number of records where vendor_id is either NYC or YCAB: {}\".format(f3_count))",
   "execution_count": null,
   "outputs": [
    {
     "name": "stdout",
     "text": "Number of records where vendor_id is either NYC or YCAB: 498\n",
     "output_type": "stream"
    }
   ]
  },
  {
   "cell_type": "markdown",
   "source": "",
   "metadata": {
    "cell_id": "dc3eb5f1-92c4-4fef-9db2-2ab8bb810926",
    "tags": [],
    "deepnote_app_coordinates": {
     "x": 0,
     "y": 0,
     "w": 12,
     "h": 5
    },
    "deepnote_cell_type": "markdown",
    "deepnote_cell_height": 46
   }
  },
  {
   "cell_type": "markdown",
   "source": "### Filter example 4",
   "metadata": {
    "cell_id": "0aa478f1-bf65-4b52-b01d-107c141ce603",
    "tags": [],
    "deepnote_app_coordinates": {
     "x": 0,
     "y": 0,
     "w": 12,
     "h": 5
    },
    "deepnote_cell_type": "markdown",
    "deepnote_cell_height": 62
   }
  },
  {
   "cell_type": "code",
   "metadata": {
    "cell_id": "aedb8180-f09d-4a33-b6f0-010b03c9353b",
    "tags": [],
    "deepnote_app_coordinates": {
     "x": 0,
     "y": 0,
     "w": 12,
     "h": 5
    },
    "deepnote_to_be_reexecuted": false,
    "source_hash": "8ea5532f",
    "execution_start": 1646326264803,
    "execution_millis": 70,
    "deepnote_cell_type": "code",
    "deepnote_cell_height": 256.1875
   },
   "source": "# Filter by range trip with passenger count between 1 and 3\nf4_count = table_taxi_obj.filter_by_range(\n    view_name=\"python_dev_guide.view_example4\",\n    column_name=\"passenger_count\",\n    lower_bound=1,\n    upper_bound=3\n).size()\n\nprint(\"Number of trips with a passenger count between 1 and 3: {}\".format(f4_count))",
   "execution_count": null,
   "outputs": [
    {
     "name": "stdout",
     "text": "Number of trips with a passenger count between 1 and 3: 972\n",
     "output_type": "stream"
    }
   ]
  },
  {
   "cell_type": "markdown",
   "source": "## Aggregates\nKinetica supports various aggregate and group-by queries, which group and aggregate your data to return counts and useful statistics.\n\n### Aggregate Example 1",
   "metadata": {
    "cell_id": "e2e518cb-4bae-4c4a-981a-cf13061336eb",
    "tags": [],
    "deepnote_app_coordinates": {
     "x": 0,
     "y": 0,
     "w": 12,
     "h": 5
    },
    "deepnote_cell_type": "markdown",
    "deepnote_cell_height": 154.390625
   }
  },
  {
   "cell_type": "code",
   "metadata": {
    "cell_id": "9e771325-5f8b-4938-b5ad-80f05f6986c9",
    "tags": [],
    "deepnote_app_coordinates": {
     "x": 0,
     "y": 0,
     "w": 12,
     "h": 5
    },
    "deepnote_to_be_reexecuted": false,
    "source_hash": "1ae787ba",
    "execution_start": 1646326264925,
    "execution_millis": 2,
    "deepnote_cell_type": "code",
    "deepnote_cell_height": 357.125
   },
   "source": "# Aggregate count, min, mean, and max on the trip distance\na1_resp = table_taxi_obj.aggregate_statistics(\n    column_name=\"trip_distance\",\n    stats=\"count,min,max,mean\"\n)\n\nprint(\"Statistics of values in the trip_distance column:\")\nprint(\"\\tCount: {count:.0f}\\n\\tMin: {min:4.2f}\\n\\tMean: {mean:4.2f}\\n\\t\" \\\n    \"Max: {max:4.2f}\\n\".format(**a1_resp[\"stats\"]))",
   "execution_count": null,
   "outputs": [
    {
     "name": "stdout",
     "text": "Statistics of values in the trip_distance column:\n\tCount: 1081\n\tMin: 0.00\n\tMean: 2.86\n\tMax: 21.88\n\n",
     "output_type": "stream"
    }
   ]
  },
  {
   "cell_type": "markdown",
   "source": "### Aggregate Example 2",
   "metadata": {
    "cell_id": "c73afaae-84c9-463d-8eff-5a6f563021f1",
    "tags": [],
    "deepnote_app_coordinates": {
     "x": 0,
     "y": 0,
     "w": 12,
     "h": 5
    },
    "deepnote_cell_type": "markdown",
    "deepnote_cell_height": 62
   }
  },
  {
   "cell_type": "code",
   "metadata": {
    "cell_id": "68ea34a6-7709-49f4-8109-e727c7bfe690",
    "tags": [],
    "deepnote_app_coordinates": {
     "x": 0,
     "y": 0,
     "w": 12,
     "h": 5
    },
    "deepnote_to_be_reexecuted": false,
    "source_hash": "e5a10994",
    "execution_start": 1646326264926,
    "execution_millis": 45,
    "deepnote_cell_type": "code",
    "deepnote_cell_height": 433.5
   },
   "source": "# Find unique taxi vendor IDs\na2_resp = table_taxi_obj.aggregate_unique(\n    column_name=\"vendor_id\",\n    offset=0,\n    limit=gpudb.GPUdb.END_OF_SET,\n    encoding=\"json\"\n)[\"data\"][\"vendor_id\"]\n\nprint(\"Unique vendor IDs in the Taxi table:\")\nfor vendor in a2_resp:\n    print(\"\\t* {}\".format(vendor))",
   "execution_count": null,
   "outputs": [
    {
     "name": "stdout",
     "text": "Unique vendor IDs in the Taxi table:\n\t* CMT\n\t* DDS\n\t* LYFT\n\t* NYC\n\t* UBER\n\t* VTS\n\t* YCAB\n",
     "output_type": "stream"
    }
   ]
  },
  {
   "cell_type": "markdown",
   "source": "### Aggregate Example 3",
   "metadata": {
    "cell_id": "fffb3c9c-26bb-4826-a3d7-b5a9f5b86254",
    "tags": [],
    "deepnote_app_coordinates": {
     "x": 0,
     "y": 0,
     "w": 12,
     "h": 5
    },
    "deepnote_cell_type": "markdown",
    "deepnote_cell_height": 62
   }
  },
  {
   "cell_type": "code",
   "metadata": {
    "cell_id": "399eae8b-ca39-4932-8fbb-bb5fdae33f21",
    "tags": [],
    "deepnote_app_coordinates": {
     "x": 0,
     "y": 0,
     "w": 12,
     "h": 5
    },
    "deepnote_to_be_reexecuted": false,
    "source_hash": "12c15d8c",
    "execution_start": 1646326265023,
    "execution_millis": 7,
    "deepnote_cell_type": "code",
    "deepnote_cell_height": 433.5
   },
   "source": "# Find number of trips per vendor\na3_resp = table_taxi_obj.aggregate_group_by(\n    column_names=[\"vendor_id\", \"COUNT(vendor_id)\"],\n    offset=0,\n    limit=gpudb.GPUdb.END_OF_SET,\n    options={\"sort_by\": \"key\"}\n)[\"data\"]\n\nprint(\"Number of trips per vendor:\")\nfor vendor in zip(a3_resp[\"vendor_id\"], a3_resp[\"COUNT(vendor_id)\"]):\n    print(\"\\t{:<10s}{:4d}\".format(vendor[0] + \":\", vendor[1]))",
   "execution_count": null,
   "outputs": [
    {
     "name": "stdout",
     "text": "Number of trips per vendor:\n\tCMT:       242\n\tDDS:       106\n\tLYFT:        3\n\tNYC:       262\n\tUBER:        3\n\tVTS:       229\n\tYCAB:      236\n",
     "output_type": "stream"
    }
   ]
  },
  {
   "cell_type": "markdown",
   "source": "### Aggregate Example 4",
   "metadata": {
    "cell_id": "c0f69133-77e9-4d14-b185-76fd23de2125",
    "tags": [],
    "deepnote_app_coordinates": {
     "x": 0,
     "y": 0,
     "w": 12,
     "h": 5
    },
    "deepnote_cell_type": "markdown",
    "deepnote_cell_height": 62
   }
  },
  {
   "cell_type": "code",
   "metadata": {
    "cell_id": "da398589-2bd4-4bf0-9332-0df1c6f7244b",
    "tags": [],
    "deepnote_app_coordinates": {
     "x": 0,
     "y": 0,
     "w": 12,
     "h": 5
    },
    "deepnote_to_be_reexecuted": false,
    "source_hash": "9c8a2b04",
    "execution_start": 1646326265024,
    "execution_millis": 44,
    "deepnote_cell_type": "code",
    "deepnote_cell_height": 487.5
   },
   "source": "# Create a histogram for the different groups of passenger counts\na4_resp = table_taxi_obj.aggregate_histogram(\n    column_name=\"passenger_count\",\n    start=1,\n    end=6,\n    interval=1\n)[\"counts\"]\n\nprint(\"Passenger count groups by size:\")\nprint(\"{:<10s} {:<11s}\".format(\"Passengers\", \"Total Trips\"))\nprint(\"{:=<10s} {:=<11s}\".format(\"\", \"\"))\n\nfor histo_group in zip([1, 2, 3, 4, '>5'], a4_resp):\n    print(\"{:>10} {:11.0f}\".format(*histo_group))",
   "execution_count": null,
   "outputs": [
    {
     "name": "stdout",
     "text": "Passenger count groups by size:\nPassengers Total Trips\n========== ===========\n         1         775\n         2         145\n         3          52\n         4          22\n        >5          87\n",
     "output_type": "stream"
    }
   ]
  },
  {
   "cell_type": "markdown",
   "source": "## Joins\n[Joins](https://docs.kinetica.com/7.1/concepts/joins/) allow you to link multiple [tables](https://docs.kinetica.com/7.1/concepts/tables/) together, along their relations, retrieving associated information from any or all of them. Tables can only be joined if they're [sharded](https://docs.kinetica.com/7.1/concepts/tables/#sharded) similarly or [replicated](https://docs.kinetica.com/7.1/concepts/tables/#replicated). Note that the [`create_join_table()`](https://docs.kinetica.com/7.1/api/python/?source/gpudbtable.html#gpudb.GPUdbTable.create_join_table) method is static and is not called with a corresponding [GPUdbTable](https://docs.kinetica.com/7.1/api/python/?source/gpudbtable.html) object.\n\n### Inner join\nAn inner join returns only records that have matching values in both tables. The join below is done using the common shard key `payment_id`.",
   "metadata": {
    "cell_id": "0d8f1637-07ad-41e5-86ed-c464bfb01cfe",
    "tags": [],
    "deepnote_app_coordinates": {
     "x": 0,
     "y": 0,
     "w": 12,
     "h": 5
    },
    "deepnote_cell_type": "markdown",
    "deepnote_cell_height": 215.171875
   }
  },
  {
   "cell_type": "code",
   "metadata": {
    "cell_id": "09c358f0-4ec4-4d07-a6cf-66663bdf4532",
    "tags": [],
    "deepnote_app_coordinates": {
     "x": 0,
     "y": 0,
     "w": 12,
     "h": 5
    },
    "deepnote_to_be_reexecuted": false,
    "source_hash": "3d0301bf",
    "execution_start": 1646326265079,
    "execution_millis": 113,
    "deepnote_cell_type": "code",
    "deepnote_cell_height": 478.1875,
    "deepnote_output_heights": [
     21.1875
    ]
   },
   "source": "# Retrieve payment information for rides having more than three passengers\ngpudb.GPUdbTable.create_join_table(\n    join_table_name=\"python_dev_guide.join_table_inner\",\n    table_names=[\n        \"python_dev_guide.taxi_trips as t\",\n        \"python_dev_guide.payments as p\"\n    ],\n    column_names=[\n        \"t.payment_id\",\n        \"payment_type\",\n        \"total_amount\",\n        \"passenger_count\",\n        \"vendor_id\",\n        \"trip_distance\"\n    ],\n    expressions=[\n        \"t.payment_id = p.payment_id\",\n        \"passenger_count > 3\"\n    ],\n    db=h_db\n)",
   "execution_count": null,
   "outputs": [
    {
     "output_type": "execute_result",
     "execution_count": 30,
     "data": {
      "text/plain": "<gpudb.gpudb.GPUdbTable at 0x7f1d59f1b3a0>"
     },
     "metadata": {}
    }
   ]
  },
  {
   "cell_type": "markdown",
   "source": "### Left join\nA left join returns all of the records an inner join does, but additionally, for each record in the table on the left side of the join that has no match along the relation to a record in the table on the right side of the join, a corresponding record will be returned with \"left-side\" columns populated with the \"left-side\" record data and the \"right-side\" columns populated with nulls.",
   "metadata": {
    "cell_id": "c43b523f-fa7e-4b59-a1a8-25acf41f3512",
    "tags": [],
    "deepnote_app_coordinates": {
     "x": 0,
     "y": 0,
     "w": 12,
     "h": 5
    },
    "deepnote_cell_type": "markdown",
    "deepnote_cell_height": 122.78125
   }
  },
  {
   "cell_type": "code",
   "metadata": {
    "cell_id": "8ec4c888-1a90-4fe5-a730-6df579ebffe9",
    "tags": [],
    "deepnote_app_coordinates": {
     "x": 0,
     "y": 0,
     "w": 12,
     "h": 5
    },
    "deepnote_to_be_reexecuted": false,
    "source_hash": "632b6463",
    "execution_start": 1646326265193,
    "execution_millis": 99,
    "deepnote_cell_type": "code",
    "deepnote_cell_height": 496.1875,
    "deepnote_output_heights": [
     21.1875
    ]
   },
   "source": "# Retrieve cab ride transactions and the full name of the associated vendor\n# (if available--blank if vendor name is unknown) for transactions with\n# associated payment data, sorting by increasing values of transaction ID.\ngpudb.GPUdbTable.create_join_table(\n    join_table_name=\"python_dev_guide.join_table_left\",\n    table_names=[\n        \"python_dev_guide.taxi_trips as t\",\n        \"python_dev_guide.taxi_vendors as v\"\n    ],\n    column_names=[\n        \"transaction_id\",\n        \"pickup_datetime\",\n        \"trip_distance\",\n        \"t.vendor_id\",\n        \"vendor_name\"\n    ],\n    expressions=[\n        \"LEFT JOIN t, v ON (t.vendor_id = v.vendor_id)\",\n        \"payment_id <> 0\"\n    ],\n    db=h_db\n)",
   "execution_count": null,
   "outputs": [
    {
     "output_type": "execute_result",
     "execution_count": 31,
     "data": {
      "text/plain": "<gpudb.gpudb.GPUdbTable at 0x7f1d84610a60>"
     },
     "metadata": {}
    }
   ]
  },
  {
   "cell_type": "markdown",
   "source": "### Outer join\nFull outer joins require both tables to be replicated or joined on their shard keys. Set merges that perform deduplication of records, like [Union Distinct](https://docs.kinetica.com/7.1/concepts/unions/), [Intersect](https://docs.kinetica.com/7.1/concepts/intersect/), and [Except](https://docs.kinetica.com/7.1/concepts/except/) also need to use replicated tables to ensure the correct results, so a replicated version of the taxi (taxi_trip_data_replicated) table and a corresponding table object are created at this point in the tutorial.",
   "metadata": {
    "cell_id": "43ad0c29-4210-46ab-a193-c8f2edb426ce",
    "tags": [],
    "deepnote_app_coordinates": {
     "x": 0,
     "y": 0,
     "w": 12,
     "h": 5
    },
    "deepnote_cell_type": "markdown",
    "deepnote_cell_height": 122.78125
   }
  },
  {
   "cell_type": "code",
   "metadata": {
    "cell_id": "3e82ae30-9c0f-4384-8563-59d41053b50a",
    "tags": [],
    "deepnote_app_coordinates": {
     "x": 0,
     "y": 0,
     "w": 12,
     "h": 5
    },
    "deepnote_to_be_reexecuted": true,
    "source_hash": "4c2bd5b9",
    "execution_start": 1646165787541,
    "execution_millis": 198,
    "deepnote_cell_type": "code",
    "deepnote_cell_height": 693
   },
   "source": "# Clear any existing table with the same name\nh_db.clear_table(\n    table_name=\"python_dev_guide.table_taxi_replicated\", \n    options={\"no_error_if_not_exists\": True}\n    )\n\n\n# Copy the records from the taxi trip table to a replicated taxi trip \n# table using merge_records\ngpudb.GPUdbTable.merge_records(\n    table_name=\"python_dev_guide.table_taxi_replicated\", \n    source_table_names=[\"python_dev_guide.taxi_trips\"],\n    field_maps=[{\n        \"transaction_id\": \"transaction_id\",\n        \"payment_id\": \"payment_id\",\n        \"vendor_id\": \"vendor_id\",\n        \"pickup_datetime\": \"pickup_datetime\",\n        \"dropoff_datetime\": \"dropoff_datetime\",\n        \"passenger_count\": \"passenger_count\",\n        \"trip_distance\": \"trip_distance\",\n        \"pickup_longitude\": \"pickup_longitude\",\n        \"pickup_latitude\": \"pickup_latitude\",\n        \"dropoff_longitude\": \"dropoff_longitude\",\n        \"dropoff_latitude\": \"dropoff_latitude\"\n    }],\n    options={\"is_replicated\": \"true\"},\n    db=h_db\n)\n\ntable_taxi_replicated_obj = gpudb.GPUdbTable(\n        _type=None,\n        name=\"python_dev_guide.table_taxi_replicated\",\n        db=h_db\n        )\n",
   "execution_count": null,
   "outputs": []
  },
  {
   "cell_type": "markdown",
   "source": "A full outer join returns all of the records a left join does, but additionally, for each record in the table on the right side of the join that has no match along the relation to a record in the table on the left side of the join, a corresponding record will be returned with \"right-side\" columns populated with the \"right-side\" record data and the \"left-side\" columns populated with nulls.",
   "metadata": {
    "cell_id": "4e7345e2-789c-4103-b4a9-81df01e57262",
    "tags": [],
    "deepnote_app_coordinates": {
     "x": 0,
     "y": 0,
     "w": 12,
     "h": 5
    },
    "deepnote_cell_type": "markdown",
    "deepnote_cell_height": 74.78125
   }
  },
  {
   "cell_type": "code",
   "metadata": {
    "cell_id": "73b057e2-2788-48e0-b122-5cbbdaf4838a",
    "tags": [],
    "deepnote_app_coordinates": {
     "x": 0,
     "y": 0,
     "w": 12,
     "h": 5
    },
    "deepnote_to_be_reexecuted": false,
    "source_hash": "475a1595",
    "execution_start": 1646326362848,
    "execution_millis": 110,
    "deepnote_cell_type": "code",
    "deepnote_cell_height": 388.1875,
    "deepnote_output_heights": [
     21.1875
    ]
   },
   "source": "# Retrieve the vendor IDs of known vendors with no recorded cab ride\n# transactions, as well as the vendor ID and number of transactions for\n# unknown vendors with recorded cab ride transactions\ngpudb.GPUdbTable.create_join_table(\n    join_table_name=\"python_dev_guide.join_table_outer\",\n    table_names=[\n        \"python_dev_guide.table_taxi_replicated as t\",\n        \"python_dev_guide.taxi_vendors as v\"\n    ],\n    column_names=[\n        \"t.vendor_id as vendor_id\",\n        \"v.vendor_id as vendor_id_1\"\n    ],\n    expressions=[\"FULL_OUTER JOIN t,v ON ((v.vendor_id = t.vendor_id))\"],\n    db=h_db\n)",
   "execution_count": null,
   "outputs": [
    {
     "output_type": "execute_result",
     "execution_count": 34,
     "data": {
      "text/plain": "<gpudb.gpudb.GPUdbTable at 0x7f1d5a5dd850>"
     },
     "metadata": {}
    }
   ]
  },
  {
   "cell_type": "markdown",
   "source": "## Projections\nYou can create [projections](https://docs.kinetica.com/7.1/concepts/projections/) using the [`create_projection()`](https://docs.kinetica.com/7.1/api/python/?source/gpudbtable.html#gpudb.GPUdbTable.create_projection) method.",
   "metadata": {
    "cell_id": "a83ad7db-9d72-4411-b67f-68bc51579b4b",
    "tags": [],
    "deepnote_app_coordinates": {
     "x": 0,
     "y": 0,
     "w": 12,
     "h": 5
    },
    "deepnote_cell_type": "markdown",
    "deepnote_cell_height": 108.390625
   }
  },
  {
   "cell_type": "code",
   "metadata": {
    "cell_id": "1f1c6c1f-f562-4b4c-9f89-6350dd666def",
    "tags": [],
    "deepnote_app_coordinates": {
     "x": 0,
     "y": 0,
     "w": 12,
     "h": 5
    },
    "deepnote_to_be_reexecuted": false,
    "source_hash": "e88e83e0",
    "execution_start": 1646165787840,
    "execution_millis": 99,
    "deepnote_cell_type": "code",
    "deepnote_cell_height": 406.1875,
    "deepnote_output_heights": [
     21.1875
    ]
   },
   "source": "# Create a projection containing all payments by credit card\ntable_payment_obj.create_projection(\n    projection_name=\"python_dev_guide.projection_example1\",\n    column_names=[\n        \"payment_id\",\n        \"payment_type\",\n        \"credit_type\",\n        \"payment_timestamp\",\n        \"fare_amount\",\n        \"surcharge\",\n        \"mta_tax\",\n        \"tip_amount\",\n        \"tolls_amount\",\n        \"total_amount\"\n    ],\n    options={\"expression\": \"payment_type = 'Credit'\"}\n)",
   "execution_count": null,
   "outputs": [
    {
     "output_type": "execute_result",
     "execution_count": 30,
     "data": {
      "text/plain": "<gpudb.gpudb.GPUdbTable at 0x7f076b15c5b0>"
     },
     "metadata": {}
    }
   ]
  },
  {
   "cell_type": "markdown",
   "source": "To persist a projection:\n\n",
   "metadata": {
    "cell_id": "57faa58b-17f7-430e-99ce-24820f751030",
    "tags": [],
    "deepnote_app_coordinates": {
     "x": 0,
     "y": 0,
     "w": 12,
     "h": 5
    },
    "deepnote_cell_type": "markdown",
    "deepnote_cell_height": 52.390625
   }
  },
  {
   "cell_type": "code",
   "metadata": {
    "cell_id": "20ff0ff3-ff34-4ef1-8473-e3ff17aae02d",
    "tags": [],
    "deepnote_app_coordinates": {
     "x": 0,
     "y": 0,
     "w": 12,
     "h": 5
    },
    "deepnote_to_be_reexecuted": false,
    "source_hash": "abeb218a",
    "execution_start": 1646165787942,
    "execution_millis": 124,
    "deepnote_cell_type": "code",
    "deepnote_cell_height": 424.1875
   },
   "source": "# Create a persisted table with cab ride transactions greater than 5 miles\n# whose trip started during lunch hours\ntable_taxi_obj.create_projection(\n    projection_name=\"python_dev_guide.projection_example2\",\n    column_names=[\n        \"HOUR(pickup_datetime) as hour_of_day\",\n        \"vendor_id\",\n        \"passenger_count\",\n        \"trip_distance\"\n    ],\n    options={\n        \"expression\":\n            \"(HOUR(pickup_datetime) >= 11) AND \"\n            \"(HOUR(pickup_datetime) <= 14) AND \"\n            \"(trip_distance > 5)\",\n        \"persist\": \"true\"\n    }\n)",
   "execution_count": null,
   "outputs": [
    {
     "output_type": "execute_result",
     "execution_count": 31,
     "data": {
      "text/plain": "<gpudb.gpudb.GPUdbTable at 0x7f076afbac40>"
     },
     "metadata": {}
    }
   ]
  },
  {
   "cell_type": "markdown",
   "source": "## Union, Intersect, and Except\n[Union](https://docs.kinetica.com/7.1/concepts/unions/) can be used to combine homogeneous data sets into one larger data set. Union & Union Distinct will both combine data sets but only retain the records that are unique across the chosen columns, removing all duplicates. Union All will combine data sets, retaining all records from the source data sets.",
   "metadata": {
    "cell_id": "40c0b042-29f0-4451-bacf-ca43bff6abf9",
    "tags": [],
    "deepnote_app_coordinates": {
     "x": 0,
     "y": 0,
     "w": 12,
     "h": 5
    },
    "deepnote_cell_type": "markdown",
    "deepnote_cell_height": 130.78125
   }
  },
  {
   "cell_type": "code",
   "metadata": {
    "cell_id": "2e774ee9-c50d-4f90-ae9a-e30ba00eaabc",
    "tags": [],
    "deepnote_app_coordinates": {
     "x": 0,
     "y": 0,
     "w": 12,
     "h": 5
    },
    "deepnote_to_be_reexecuted": false,
    "source_hash": "13310f92",
    "execution_start": 1646165788066,
    "execution_millis": 238,
    "deepnote_cell_type": "code",
    "deepnote_cell_height": 1162.1875,
    "deepnote_output_heights": [
     21.1875
    ]
   },
   "source": "# Calculate the average number of passengers, as well as the shortest,\n# average, and longest trips for all trips in\n# each of the two time periods--from April 1st through the 15th, 2015 and\n# from April 16th through the 23rd, 2015--and return those two sets of\n# statistics in a single result set.\ntable_taxi_obj.aggregate_group_by(\n    column_names=[\n        \"AVG(passenger_count) as avg_pass_count\",\n        \"AVG(trip_distance) as avg_trip_dist\",\n        \"MIN(trip_distance) as min_trip_dist\",\n        \"MAX(trip_distance) as max_trip_dist\"\n    ],\n    offset=0,\n    limit=gpudb.GPUdb.END_OF_SET,\n    options={\n        \"expression\":\n            \"(pickup_datetime >= '2015-04-01') AND \"\n            \"(pickup_datetime <= '2015-04-15 23:59:59.999')\",\n        \"result_table\": \"python_dev_guide.agg_grpby_union_all_src1\"\n    }\n)\ntable_taxi_obj.aggregate_group_by(\n    column_names=[\n        \"AVG(passenger_count) as avg_pass_count\",\n        \"AVG(trip_distance) as avg_trip_dist\",\n        \"MIN(trip_distance) as min_trip_dist\",\n        \"MAX(trip_distance) as max_trip_dist\"\n    ],\n    offset=0,\n    limit=gpudb.GPUdb.END_OF_SET,\n    options={\n        \"expression\":\n            \"(pickup_datetime >= '2015-04-16') AND \"\n            \"(pickup_datetime <= '2015-04-23 23:59:59.999')\",\n        \"result_table\": \"python_dev_guide.agg_grpby_union_all_src2\"\n    }\n)\ngpudb.GPUdbTable.create_union(\n    table_name=\"python_dev_guide.union_all_table\",\n    table_names=[\n        \"python_dev_guide.agg_grpby_union_all_src1\",\n        \"python_dev_guide.agg_grpby_union_all_src2\"\n    ],\n    input_column_names=[\n        [\"'2015-04-01 - 2014-04-15'\", \"avg_pass_count\",\n            \"avg_trip_dist\", \"min_trip_dist\", \"max_trip_dist\"],\n        [\"'2015-04-16 - 2015-04-23'\", \"avg_pass_count\",\n            \"avg_trip_dist\", \"min_trip_dist\", \"max_trip_dist\"]\n    ],\n    output_column_names=[\n        \"pickup_window_range\",\n        \"avg_pass_count\",\n        \"avg_trip\",\n        \"min_trip\",\n        \"max_trip\"\n    ],\n    options={\"mode\": \"union_all\"},\n    db=h_db\n)",
   "execution_count": null,
   "outputs": [
    {
     "output_type": "execute_result",
     "execution_count": 32,
     "data": {
      "text/plain": "<gpudb.gpudb.GPUdbTable at 0x7f076afcadc0>"
     },
     "metadata": {}
    }
   ]
  },
  {
   "cell_type": "markdown",
   "source": "[Intersect](https://docs.kinetica.com/7.1/concepts/intersect/) will combine data sets but only include the records found in both data sets, removing duplicate result records.",
   "metadata": {
    "cell_id": "be874df9-389d-4739-aeb1-ae0f585a412e",
    "tags": [],
    "deepnote_app_coordinates": {
     "x": 0,
     "y": 0,
     "w": 12,
     "h": 5
    },
    "deepnote_cell_type": "markdown",
    "deepnote_cell_height": 52.390625
   }
  },
  {
   "cell_type": "code",
   "metadata": {
    "cell_id": "33fe40f7-177f-429b-9482-94e9ab0eff62",
    "tags": [],
    "deepnote_app_coordinates": {
     "x": 0,
     "y": 0,
     "w": 12,
     "h": 5
    },
    "deepnote_to_be_reexecuted": false,
    "source_hash": "d837279a",
    "execution_start": 1646165788306,
    "execution_millis": 82,
    "deepnote_cell_type": "code",
    "deepnote_cell_height": 388.1875,
    "deepnote_output_heights": [
     21.1875
    ]
   },
   "source": "# Retrieve locations (as lat/lon pairs) that were both pick-up and\n# drop-off points\ngpudb.GPUdbTable.create_union(\n    table_name=\"python_dev_guide.union_intersect_table\",\n    table_names=[\n        \"python_dev_guide.table_taxi_replicated\",\n        \"python_dev_guide.table_taxi_replicated\"\n    ],\n    input_column_names=[\n        [\"pickup_latitude\", \"pickup_longitude\"],\n        [\"dropoff_latitude\", \"dropoff_longitude\"]\n    ],\n    output_column_names=[\"latitude\", \"longitude\"],\n    options={\"mode\": \"intersect\"},\n    db=h_db\n)",
   "execution_count": null,
   "outputs": [
    {
     "output_type": "execute_result",
     "execution_count": 33,
     "data": {
      "text/plain": "<gpudb.gpudb.GPUdbTable at 0x7f076afa6550>"
     },
     "metadata": {}
    }
   ]
  },
  {
   "cell_type": "markdown",
   "source": "[Except](https://docs.kinetica.com/7.1/concepts/except/) will return records that appear in the first data set but not the second data set. Note that the data sets on each side of the Except will have duplicates removed first, and then the set subtraction will be processed.",
   "metadata": {
    "cell_id": "73d1624c-a2a9-4d22-bbf7-89e30965980d",
    "tags": [],
    "deepnote_app_coordinates": {
     "x": 0,
     "y": 0,
     "w": 12,
     "h": 5
    },
    "deepnote_cell_type": "markdown",
    "deepnote_cell_height": 74.78125
   }
  },
  {
   "cell_type": "code",
   "metadata": {
    "cell_id": "6f9d1edf-36b6-4e2e-9242-331751efeffa",
    "tags": [],
    "deepnote_app_coordinates": {
     "x": 0,
     "y": 0,
     "w": 12,
     "h": 5
    },
    "deepnote_to_be_reexecuted": false,
    "source_hash": "12a94d95",
    "execution_start": 1646165788391,
    "execution_millis": 556,
    "deepnote_cell_type": "code",
    "deepnote_cell_height": 748.1875,
    "deepnote_output_heights": [
     21.1875
    ]
   },
   "source": "# Show vendors that operate before noon, but not after noon: retrieve the\n# unique list of IDs of vendors who provided cab rides between midnight\n# and noon, and remove from that list the IDs of any vendors who provided\n# cab rides between noon and midnight\ntable_taxi_replicated_obj.create_projection(\n    projection_name=\"python_dev_guide.projection_except_src1\",\n    column_names=[\"vendor_id\"],\n    options={\n        \"expression\":\n            \"(HOUR(pickup_datetime) >= 0) AND \"\n            \"(HOUR(pickup_datetime) <= 11)\"\n    }\n)\ntable_taxi_replicated_obj.create_projection(\n    projection_name=\"python_dev_guide.projection_except_src2\",\n    column_names=[\"vendor_id\"],\n    options={\n        \"expression\":\n            \"(HOUR(pickup_datetime) >= 12) AND \"\n            \"(HOUR(pickup_datetime) <= 23)\"\n    }\n)\ngpudb.GPUdbTable.create_union(\n    table_name=\"python_dev_guide.union_except_table\",\n    table_names=[\n        \"python_dev_guide.projection_except_src1\",\n        \"python_dev_guide.projection_except_src2\"\n    ],\n    input_column_names=[\n        [\"vendor_id\"],\n        [\"vendor_id\"]\n    ],\n    output_column_names=[\"vendor_id\"],\n    options={\"mode\": \"except\"},\n    db=h_db\n)",
   "execution_count": null,
   "outputs": [
    {
     "output_type": "execute_result",
     "execution_count": 34,
     "data": {
      "text/plain": "<gpudb.gpudb.GPUdbTable at 0x7f076afb6fa0>"
     },
     "metadata": {}
    }
   ]
  },
  {
   "cell_type": "markdown",
   "source": "<a style='text-decoration:none;line-height:16px;display:flex;color:#5B5B62;padding:10px;justify-content:end;' href='https://deepnote.com?utm_source=created-in-deepnote-cell&projectId=3504dc9a-cf94-4c79-ba37-d319423beb20' target=\"_blank\">\n<img alt='Created in deepnote.com' style='display:inline;max-height:16px;margin:0px;margin-right:7.5px;' src='data:image/svg+xml;base64,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' > </img>\nCreated in <span style='font-weight:600;margin-left:4px;'>Deepnote</span></a>",
   "metadata": {
    "tags": [],
    "created_in_deepnote_cell": true,
    "deepnote_cell_type": "markdown"
   }
  }
 ],
 "nbformat": 4,
 "nbformat_minor": 5,
 "metadata": {
  "kernelspec": {
   "display_name": "Python 3 (ipykernel)",
   "language": "python",
   "name": "python3"
  },
  "language_info": {
   "codemirror_mode": {
    "name": "ipython",
    "version": 3
   },
   "file_extension": ".py",
   "mimetype": "text/x-python",
   "name": "python",
   "nbconvert_exporter": "python",
   "pygments_lexer": "ipython3",
   "version": "3.8.2"
  },
  "deepnote_notebook_id": "1e5331e8-f491-4f91-a0ba-fc38aa990092",
  "deepnote": {},
  "deepnote_app_layout": "article",
  "deepnote_execution_queue": []
 }
}